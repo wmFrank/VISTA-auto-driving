{
  "cells": [
    {
      "cell_type": "markdown",
      "metadata": {
        "id": "view-in-github",
        "colab_type": "text"
      },
      "source": [
        "<a href=\"https://colab.research.google.com/github/wmFrank/VISTA-auto-driving/blob/main/VISTA_auto_driving.ipynb\" target=\"_parent\"><img src=\"https://colab.research.google.com/assets/colab-badge.svg\" alt=\"Open In Colab\"/></a>"
      ]
    },
    {
      "cell_type": "markdown",
      "metadata": {
        "id": "Eu6Mqxc720ST"
      },
      "source": [
        "# Training Autonomous Driving Policies in VISTA\n",
        "Autonomous control has traditionally be dominated by algorithms that explicitly decompose individual aspects of the control pipeline. For example, in autonomous driving, traditional methods work by first detecting road and lane boundaries, and then using path planning and rule-based methods to derive a control policy. Deep learning offers something very different -- the possibility of optimizing all these steps simultaneously, learning control end-to-end directly from raw sensory inputs.\n",
        "\n",
        "**You will explore the power of deep learning to learn autonomous control policies that are trained *end-to-end, directly from raw sensory data, and entirely within a simulated world*.**\n",
        "\n",
        "We will use the data-driven simulation engine [VISTA](https://ieeexplore.ieee.org/stamp/stamp.jsp?arnumber=8957584&tag=1), which uses techniques in computer vision to synthesize new photorealistic trajectories and driving viewpoints, that are still consistent with the world's appearance and fall within the envelope of a real driving scene. This is a powerful approach -- we can synthesize data that is photorealistic, grounded in the real world, and then use this data for training and testing autonomous vehicle control policies within this simulator.\n",
        "\n",
        "In this part of the lab, you will use reinforcement lerning to build a self-driving agent with a neural network-based controller trained on RGB camera data. We will train the self-driving agent for the task of lane following. Beyond this data modality and control task, VISTA also supports [different data modalities](https://arxiv.org/pdf/2111.12083.pdf) (such as LiDAR data) and [different learning tasks](https://arxiv.org/pdf/2111.12137.pdf) (such as multi-car interactions).\n",
        "<p align=\"center\">\n",
        "<img src=\"https://raw.githubusercontent.com/aamini/introtodeeplearning/master/lab3/img/vista_overview.png\" width=\"600\"/>\n",
        "</p>\n",
        "\n",
        "\n",
        "You will put your agent to the test in the VISTA environment, and potentially, on board a full-scale autonomous vehicle! Specifically, as part of the MIT lab competitions, high-performing agents -- evaluated based on the maximum distance they can travel without crashing -- will have the opportunity to be put to the ***real*** test onboard a full-scale autonomous vehicle!!! \n",
        "\n",
        "We start by installing dependencies. This includes installing the VISTA package itself."
      ]
    },
    {
      "cell_type": "code",
      "source": [
        "!nvidia-smi"
      ],
      "metadata": {
        "id": "Dg_lxWKYUtqh"
      },
      "execution_count": null,
      "outputs": []
    },
    {
      "cell_type": "code",
      "source": [
        "#Install some dependencies for visualizing the agents\n",
        "!apt-get install -y xvfb python-opengl x11-utils &> /dev/null\n",
        "!pip install pyvirtualdisplay scikit-video ffio pyrender &> /dev/null\n",
        "!pip install tensorflow_probability==0.12.0 &> /dev/null\n",
        "!pip install vista &> /dev/null\n",
        "!pip install --upgrade git+https://github.com/aamini/introtodeeplearning.git &> /dev/null\n"
      ],
      "metadata": {
        "id": "LiWpd9s4_rFu"
      },
      "execution_count": null,
      "outputs": []
    },
    {
      "cell_type": "code",
      "source": [
        "# import libs\n",
        "import os\n",
        "os.environ['PYOPENGL_PLATFORM'] = 'egl'\n",
        "\n",
        "import numpy as np\n",
        "import matplotlib, cv2\n",
        "import matplotlib.pyplot as plt\n",
        "import base64, io, os, time\n",
        "import IPython, functools\n",
        "import time\n",
        "from tqdm import tqdm\n",
        "import tensorflow_probability as tfp\n",
        "import mitdeeplearning as mdl\n",
        "\n",
        "import vista\n",
        "from vista.utils import logging\n",
        "logging.setLevel(logging.ERROR)\n",
        "\n",
        "import torch\n",
        "device = torch.device(\"cuda\" if torch.cuda.is_available() else \"cpu\")\n",
        "print(device)"
      ],
      "metadata": {
        "id": "1uKfjRN9JvLf"
      },
      "execution_count": null,
      "outputs": []
    },
    {
      "cell_type": "markdown",
      "source": [
        "## Create an environment in VISTA\n",
        "\n",
        "Environments in VISTA are based on and built from human-collected driving *traces*. A trace is the data from a single driving run. In this case we'll be working with RGB camera data, from the viewpoint of the driver looking out at the road: the camera collects this data as the car drives around!\n",
        "\n",
        "We will start by accessing a trace. We use that trace to instantiate an environment within VISTA. This is our `World` and defines the environment we will use for reinforcement learning. The trace itself helps to define a space for the environment; with VISTA, we can use the trace to generate new photorealistic viewpoints anywhere within that space. This provides valuable new training data as well as a robust testing environment.\n",
        "\n",
        "The simulated environment of VISTA will serve as our training ground and testbed for reinforcement learning. We also define an `Agent` -- a car -- that will actually move around in the environmnet, and make and carry out *actions* in this world. Because this is an entirely simulated environment, our car agent will also be simulated!\n",
        "\n"
      ],
      "metadata": {
        "id": "XauFMMZjnYxn"
      }
    },
    {
      "cell_type": "code",
      "execution_count": null,
      "metadata": {
        "scrolled": true,
        "id": "JrTpTBJsJ9Bp"
      },
      "outputs": [],
      "source": [
        "# Download and extract the data for vista (auto-skip if already downloaded)\n",
        "!wget -nc -q --show-progress https://www.dropbox.com/s/62pao4mipyzk3xu/vista_traces.zip\n",
        "print(\"Unzipping data...\")\n",
        "!unzip -o -q vista_traces.zip\n",
        "print(\"Done downloading and unzipping data!\")\n",
        "\n",
        "trace_root = \"./vista_traces\"\n",
        "trace_path = [\n",
        "    \"20210726-154641_lexus_devens_center\", \n",
        "    \"20210726-155941_lexus_devens_center_reverse\", \n",
        "    \"20210726-184624_lexus_devens_center\", \n",
        "    \"20210726-184956_lexus_devens_center_reverse\", \n",
        "]\n",
        "trace_path = [os.path.join(trace_root, p) for p in trace_path]\n",
        "\n",
        "# Create a virtual world with VISTA, the world is defined by a series of data traces\n",
        "world = vista.World(trace_path, trace_config={'road_width': 4})\n",
        "\n",
        "# Create a car in our virtual world. The car will be able to step and take different \n",
        "#   control actions. As the car moves, its sensors will simulate any changes it environment\n",
        "car = world.spawn_agent(\n",
        "    config={\n",
        "        'length': 5.,\n",
        "        'width': 2.,\n",
        "        'wheel_base': 2.78,\n",
        "        'steering_ratio': 14.7,\n",
        "        'lookahead_road': True\n",
        "    })\n",
        "\n",
        "# Create a camera on the car for synthesizing the sensor data that we can use to train with! \n",
        "camera = car.spawn_camera(config={'size': (200, 320)})\n",
        "\n",
        "# Define a rendering display so we can visualize the simulated car camera stream and also \n",
        "#   get see its physical location with respect to the road in its environment. \n",
        "display = vista.Display(world, display_config={\"gui_scale\": 2, \"vis_full_frame\": False})\n",
        "\n",
        "# Define a simple helper function that allows us to reset VISTA and the rendering display\n",
        "def vista_reset():\n",
        "    world.reset()\n",
        "    display.reset()\n",
        "vista_reset()\n",
        "    "
      ]
    },
    {
      "cell_type": "markdown",
      "source": [
        "## Create an agent(a car) in VISTA\n",
        "\n",
        "Our goal is to learn a control policy for our agent, our (hopefully) autonomous vehicle, end-to-end directly from RGB camera sensory input. As in Cartpole, we need to define how our virtual agent will interact with its environment.\n",
        "\n",
        "### Define agent's action functions\n",
        "In the case of driving, the car agent can act -- taking a step in the VISTA environment -- according to a given control command. This amounts to moving with a desired speed and a desired *curvature*, which reflects the car's turn radius. Curvature has units $\\frac{1}{meter}$. So, if a car is traversing a circle of radius $r$ meters, then it is turning with a curvature $\\frac{1}{r}$. The curvature is therefore correlated with the car's steering wheel angle, which actually controls its turn radius. Let's define the car agent's step function to capture the action of moving with a desired speed and desired curvature."
      ],
      "metadata": {
        "id": "rNzwTTwzngQH"
      }
    },
    {
      "cell_type": "code",
      "execution_count": null,
      "metadata": {
        "id": "ZjFecj3WJ9Bp"
      },
      "outputs": [],
      "source": [
        "# First we define a step function, to allow our virtual agent to step \n",
        "# with a given control command through the environment \n",
        "# agent can act with a desired curvature (turning radius, like steering angle)\n",
        "# and desired speed. if either is not provided then this step function will \n",
        "# use whatever the human executed at that time in the real data.\n",
        "\n",
        "def vista_step(curvature=None, speed=None):\n",
        "    # Arguments:\n",
        "    #   curvature: curvature to step with\n",
        "    #   speed: speed to step with\n",
        "    if curvature is None: \n",
        "        curvature = car.trace.f_curvature(car.timestamp)\n",
        "    if speed is None: \n",
        "        speed = car.trace.f_speed(car.timestamp)\n",
        "    \n",
        "    car.step_dynamics(action=np.array([curvature, speed]), dt=1/15.)\n",
        "    car.step_sensors()"
      ]
    },
    {
      "cell_type": "markdown",
      "metadata": {
        "id": "aRmV3GtkJ9Bp"
      },
      "source": [
        "### Inspect driving trajectories in VISTA\n",
        "\n",
        "Recall that our VISTA environment is based off an initial human-collected driving trace. Also, we defined the agent's step function to defer to what the human executed if it is not provided with a desired speed and curvature with which to move.\n",
        "\n",
        "Thus, we can further inspect our environment by using the step function for the driving agent to move through the environment by following the human path. The stepping and iteration will take about 1 iteration per second. We will then observe the data that comes out to see the agent's traversal of the environment."
      ]
    },
    {
      "cell_type": "code",
      "execution_count": null,
      "metadata": {
        "id": "rp8G7eirJ9Bp"
      },
      "outputs": [],
      "source": [
        "import shutil, os, subprocess, cv2\n",
        "\n",
        "# Create a simple helper class that will assist us in storing videos of the render\n",
        "class VideoStream():\n",
        "    def __init__(self):\n",
        "        self.tmp = \"./tmp\"\n",
        "        if os.path.exists(self.tmp) and os.path.isdir(self.tmp):\n",
        "            shutil.rmtree(self.tmp)\n",
        "        os.mkdir(self.tmp)\n",
        "    def write(self, image, index):\n",
        "        cv2.imwrite(os.path.join(self.tmp, f\"{index:04}.png\"), image)\n",
        "    def save(self, fname):\n",
        "        cmd = f\"/usr/bin/ffmpeg -f image2 -i {self.tmp}/%04d.png -crf 0 -y {fname}\"\n",
        "        subprocess.call(cmd, shell=True)\n",
        "        "
      ]
    },
    {
      "cell_type": "code",
      "execution_count": null,
      "metadata": {
        "scrolled": true,
        "id": "MlC5t0dyJ9Bq"
      },
      "outputs": [],
      "source": [
        "## Inspect and save a human trace ##\n",
        "\n",
        "vista_reset()\n",
        "stream = VideoStream()\n",
        "\n",
        "for i in tqdm(range(100)):\n",
        "    vista_step()\n",
        "    \n",
        "    # Render and save the display\n",
        "    vis_img = display.render()\n",
        "    stream.write(vis_img[:, :, ::-1], index=i)\n",
        "    if car.done: \n",
        "        break\n",
        "\n",
        "print(\"Saving trajectory of human following...\")\n",
        "stream.save(\"human_control.mp4\")      "
      ]
    },
    {
      "cell_type": "code",
      "source": [
        "mdl.lab3.play_video(\"human_control.mp4\")"
      ],
      "metadata": {
        "id": "FmxcjeJXK9JX"
      },
      "execution_count": null,
      "outputs": []
    },
    {
      "cell_type": "markdown",
      "source": [
        "Check out the simulated VISTA environment. What do you notice about the environment, the agent, and the setup of the simulation engine? How could these aspects useful for training models?"
      ],
      "metadata": {
        "id": "SCeRDuqV-bye"
      }
    },
    {
      "cell_type": "markdown",
      "metadata": {
        "id": "CvJCRINbJ9Bq"
      },
      "source": [
        "### Define terminal states: crashing\n",
        "\n",
        "Recall from Cartpole, our training episodes ended when the pole toppled, i.e., the agent crashed and failed. Similarly for training vehicle control policies in VISTA, we have to define what a ***crash*** means. We will define a crash as any time the car moves out of its lane or exceeds its maximum rotation. This will define the end of a training episode."
      ]
    },
    {
      "cell_type": "code",
      "execution_count": null,
      "metadata": {
        "id": "2_6U_VAFJ9Bq"
      },
      "outputs": [],
      "source": [
        "## Define terminal states and crashing conditions ##\n",
        "\n",
        "def check_out_of_lane(car):\n",
        "    distance_from_center = np.abs(car.relative_state.x)\n",
        "    road_width = car.trace.road_width \n",
        "    half_road_width = road_width / 2\n",
        "    return distance_from_center > half_road_width\n",
        "\n",
        "def check_exceed_max_rot(car):\n",
        "    maximal_rotation = np.pi / 10.\n",
        "    current_rotation = np.abs(car.relative_state.yaw)\n",
        "    return current_rotation > maximal_rotation\n",
        "\n",
        "def check_crash(car): \n",
        "    return check_out_of_lane(car) or check_exceed_max_rot(car) or car.done"
      ]
    },
    {
      "cell_type": "markdown",
      "metadata": {
        "id": "YFXUZ8ppJ9Bq"
      },
      "source": [
        "### Use a random control policy\n",
        "\n",
        "At this point, we have (1) an environment; (2) an agent, with a step function. Before we start learning a control policy for our vehicle agent, we start by testing out the behavior of the agent in the virtual world by providing it with a completely random control policy. Naturally we expect that the behavior will not be very robust! Let's take a look."
      ]
    },
    {
      "cell_type": "code",
      "execution_count": null,
      "metadata": {
        "id": "ZIyI5MqwJ9Bq"
      },
      "outputs": [],
      "source": [
        "## Behavior with random control policy ##\n",
        "\n",
        "i = 0\n",
        "num_crashes = 5\n",
        "stream = VideoStream()\n",
        "\n",
        "for _ in range(num_crashes):\n",
        "    vista_reset()\n",
        "    \n",
        "    while not check_crash(car):\n",
        "\n",
        "        # Sample a random curvature (between +/- 1/3), keep speed constant\n",
        "        curvature = np.random.uniform(-1/3, 1/3)\n",
        "\n",
        "        # Step the simulated car with the same action\n",
        "        vista_step(curvature=curvature)\n",
        "\n",
        "        # Render and save the display\n",
        "        vis_img = display.render()\n",
        "        stream.write(vis_img[:, :, ::-1], index=i)\n",
        "        i += 1\n",
        "    \n",
        "    print(f\"Car crashed on step {i}\")\n",
        "    for _ in range(5):\n",
        "        stream.write(vis_img[:, :, ::-1], index=i)\n",
        "        i += 1\n",
        "\n",
        "print(\"Saving trajectory with random policy...\")\n",
        "stream.save(\"random_policy.mp4\")"
      ]
    },
    {
      "cell_type": "code",
      "source": [
        "mdl.lab3.play_video(\"random_policy.mp4\")"
      ],
      "metadata": {
        "id": "CWQPlxp4BTFj"
      },
      "execution_count": null,
      "outputs": []
    },
    {
      "cell_type": "markdown",
      "metadata": {
        "id": "OL02qW5vJ9Br"
      },
      "source": [
        "## Data preprocessing\n",
        "\n",
        "So, hopefully you saw that the random control policy was, indeed, not very robust. Yikes. Our overall goal in this lab is to build a self-driving agent using a neural network controller trained entirely in the simulator VISTA. This means that the data used to train and test the self-driving agent will be supplied by VISTA. As a step towards this, we will do some data preprocessing to make it easier for the network to learn from these visual data.\n",
        "\n",
        "Previously we rendered the data with a display as a quick check that the environment was working properly. For training the agent, we will directly access the car's observations, extract Regions Of Interest (ROI) from those observations, crop them out, and use these crops as training data for our self-driving agent controller. Observe both the full observation and the extracted ROI."
      ]
    },
    {
      "cell_type": "code",
      "execution_count": null,
      "metadata": {
        "id": "4UxX6mk5J9Br"
      },
      "outputs": [],
      "source": [
        "from google.colab.patches import cv2_imshow\n",
        "\n",
        "# Directly access the raw sensor observations of the simulated car\n",
        "vista_reset()\n",
        "full_obs = car.observations[camera.name]\n",
        "cv2_imshow(full_obs)"
      ]
    },
    {
      "cell_type": "code",
      "source": [
        "## ROIs ##\n",
        "\n",
        "# Crop a smaller region of interest (ROI). This is necessary because: \n",
        "#   1. The full observation will have distortions on the edge as the car deviates from the human\n",
        "#   2. A smaller image of the environment will be easier for our model to learn from\n",
        "region_of_interest = camera.camera_param.get_roi()\n",
        "i1, j1, i2, j2 = region_of_interest\n",
        "cropped_obs = full_obs[i1:i2, j1:j2]\n",
        "cv2_imshow(cropped_obs)"
      ],
      "metadata": {
        "id": "KAH-5uxrbkng"
      },
      "execution_count": null,
      "outputs": []
    },
    {
      "cell_type": "markdown",
      "metadata": {
        "id": "znxypklaJ9Br"
      },
      "source": [
        "We will group these steps into some helper functions that we can use during training: \n",
        "1. `preprocess`: takes a full observation as input and returns a preprocessed version. This can include whatever preprocessing steps you would like! For example, ROI extraction, cropping, augmentations, and so on. You are welcome to add and modify this function as you seek to optimize your self-driving agent!\n",
        "2. `grab_and_preprocess`: grab the car's current observation (i.e., image view from its perspective), and then call the `preprocess` function on that observation."
      ]
    },
    {
      "cell_type": "code",
      "execution_count": null,
      "metadata": {
        "id": "7GQY_UwSJ9Br"
      },
      "outputs": [],
      "source": [
        "## Data preprocessing functions ##\n",
        "\n",
        "def preprocess(full_obs):\n",
        "    # Extract ROI\n",
        "    i1, j1, i2, j2 = camera.camera_param.get_roi()\n",
        "    obs = full_obs[i1:i2, j1:j2]\n",
        "    \n",
        "    # Rescale to [0, 1]\n",
        "    obs = obs / 255.\n",
        "    return obs\n",
        "\n",
        "def grab_and_preprocess_obs(car):\n",
        "    full_obs = car.observations[camera.name]\n",
        "    obs = preprocess(full_obs)\n",
        "    return obs"
      ]
    },
    {
      "cell_type": "markdown",
      "metadata": {
        "id": "WAueY4PfJ9Br"
      },
      "source": [
        "## Define the self-driving agent and learning algorithm\n",
        "\n",
        "As before, we'll use a neural network to define our agent and output actions that it will take. Fixing the agent's driving speed, we will train this network to predict a curvature -- a continuous value -- that will relate to the car's turn radius. Specifically, define the model to output a prediction of a continuous distribution of curvature, defined by a mean $\\mu$ and standard deviation $\\sigma$. These parameters will define a Normal distribution over curvature.\n",
        "\n",
        "What network architecture do you think would be especially well suited to the task of end-to-end control learning from RGB images? Since our observations are in the form of RGB images, we'll start with a convolutional network. Note that you will be tasked with completing a template CNN architecture for the self-driving car agent -- but you should certainly experiment beyond this template to try to optimize performance!"
      ]
    },
    {
      "cell_type": "code",
      "source": [
        "### Define the self-driving agent ###\n",
        "\n",
        "# input image size: CHW: 3,45,155\n",
        "output_size = 2\n",
        "\n",
        "def create_driving_model():\n",
        "  model = torch.nn.Sequential(\n",
        "      torch.nn.Conv2d(in_channels=3, out_channels=32, kernel_size=5, stride=2),\n",
        "      torch.nn.Hardswish(),\n",
        "      torch.nn.Conv2d(in_channels=32, out_channels=48, kernel_size=5, stride=2),\n",
        "      torch.nn.Hardswish(),\n",
        "      torch.nn.Conv2d(in_channels=48, out_channels=64, kernel_size=3, stride=2),\n",
        "      torch.nn.Hardswish(),\n",
        "      torch.nn.Conv2d(in_channels=64, out_channels=64, kernel_size=3, stride=2),\n",
        "      torch.nn.Hardswish(),\n",
        "      torch.nn.Flatten(),\n",
        "      torch.nn.Linear(512, 128),\n",
        "      torch.nn.Hardswish(),\n",
        "      torch.nn.Linear(128, output_size),\n",
        "  )\n",
        "  return model\n",
        "\n",
        "driving_model = create_driving_model()\n",
        "print(driving_model)\n",
        "\n",
        "# # test\n",
        "# x = torch.zeros((3, 3, 45, 155))\n",
        "# driving_model(x)"
      ],
      "metadata": {
        "id": "AeSVAR_HJ2Wa"
      },
      "execution_count": null,
      "outputs": []
    },
    {
      "cell_type": "markdown",
      "metadata": {
        "id": "hlyL0HL1J9Bs"
      },
      "source": [
        "Now we will define the learing algorithm which will be used to reinforce good behaviors of the agent and discourage bad behaviours. As with Cartpole, we will use a *policy gradient* method that aims to **maximize** the likelihood of actions that result in large rewards. However, there are some key differences. In Cartpole, the agent's action space was discrete: it could only move left or right. In driving, the agent's action space is continuous: the control network is outputting a curvature, which is a continuous variable. We will define a probability distribution, defined by a mean and variance, over this continuous action space to define the possible actions the self-driving agent can take.\n",
        "\n",
        "You will define three functions that reflect these changes and form the core of the the learning algorithm:\n",
        "1. `run_driving_model`: takes an input image, and outputs a prediction of a continuous distribution of curvature. This will take the form of a Normal distribuion and will be defined using TensorFlow probability's [`tfp.distributions.Normal`](https://www.tensorflow.org/probability/api_docs/python/tfp/distributions/Normal) function, so the model's prediction will include both a mean and variance. Operates on an instance `driving_model` defined above.\n",
        "2. `compute_driving_loss`: computes the loss for a prediction that is in the form of a continuous Normal distribution. Recall as in Cartpole, computing the loss involves multiplying the predicted log probabilities by the discounted rewards. Similar to `compute_loss` in Cartpole.\n",
        "\n",
        "The `train_step` function to use the loss function to execute a training step will be the same as we used in Cartpole! This will have to be executed abov in order for the driving agent to train properly."
      ]
    },
    {
      "cell_type": "code",
      "source": [
        "## The self-driving learning algorithm ##\n",
        "\n",
        "# hyperparameters\n",
        "max_curvature = 1/8. \n",
        "max_std = 0.1 \n",
        "\n",
        "def run_driving_model(image):\n",
        "    # print(image.shape)\n",
        "    image = np.copy(image)\n",
        "    # print(image.shape)\n",
        "    # Arguments:\n",
        "    #   image: an input image\n",
        "    # Returns:\n",
        "    #   pred_dist: predicted distribution of control actions \n",
        "    single_image_input = image.ndim == 3  # missing 4th batch dimension\n",
        "    if single_image_input:\n",
        "        image = np.expand_dims(image, axis=0)\n",
        "\n",
        "    # change NHWC to NCHW\n",
        "    image = np.moveaxis(image, -1, 1)\n",
        "\n",
        "    image = torch.from_numpy(image.astype(np.float32)).to(device)\n",
        "    # get the prediction of the model given the current observation\n",
        "    distribution = driving_model(image)\n",
        "\n",
        "    mu, logsigma = torch.split(distribution, 1, dim=1)\n",
        "    mu = max_curvature * torch.tanh(mu) # conversion\n",
        "    sigma = max_std * torch.sigmoid(logsigma) + 0.005 # conversion\n",
        "    \n",
        "    # define the predicted distribution of curvature, given the predicted\n",
        "    pred_dist = torch.distributions.normal.Normal(mu, sigma)\n",
        "    return pred_dist\n",
        "\n",
        "\n",
        "def compute_driving_loss(dist, actions, rewards):\n",
        "    # Arguments:\n",
        "    #   logits: network's predictions for actions to take\n",
        "    #   actions: the actions the agent took in an episode\n",
        "    #   rewards: the rewards the agent received in an episode\n",
        "    # Returns:\n",
        "    #   loss\n",
        "    # complete the function call to compute the negative log probabilities\n",
        "    actions = torch.from_numpy(actions.astype(np.float32)).to(device)\n",
        "    rewards = torch.from_numpy(rewards.astype(np.float32)).to(device)\n",
        "    neg_logprob = -1 * dist.log_prob(actions)\n",
        "    # neg_logprob = '''TODO'''\n",
        "\n",
        "    '''TODO: scale the negative log probability by the rewards.'''\n",
        "    loss = torch.mean( neg_logprob * rewards ) # TODO\n",
        "    # loss = tf.reduce_mean('''TODO''')\n",
        "    return loss\n",
        "\n",
        "# # test\n",
        "# y = np.zeros((45, 155, 3))\n",
        "# driving_model.to(device)\n",
        "# dis = run_driving_model(y)\n",
        "# a = dis.sample()[0, 0]\n",
        "# print(a.device)\n",
        "\n",
        "\n"
      ],
      "metadata": {
        "id": "dz_lGxz0SGCD"
      },
      "execution_count": null,
      "outputs": []
    },
    {
      "cell_type": "markdown",
      "metadata": {
        "id": "fCCMKLaIJ9Bs"
      },
      "source": [
        "## Train the self-driving agent\n",
        "\n",
        "We're now all set up to start training our RL algorithm and agent for autonomous driving!\n",
        "\n",
        "We begin be initializing an opitimizer, environment, a new driving agent, and `Memory` buffer. This will be in the first code block. To restart training completely, you will need to re-run this cell to re-initiailize everything.\n",
        "\n",
        "The second code block is the main training script. Here reinforcement learning episodes will be executed by agents in the VISTA environment. Since the self-driving agent starts out with literally zero knowledge of its environment, it can often take a long time to train and achieve stable behavior -- keep this in mind! For convenience, stopping and restarting the second cell will pick up training where you left off.\n",
        "\n",
        "The training block will execute a policy in the environment until the agent crashes. When the agent crashes, the (state, action, reward) triplet `(s,a,r)` of the agent at the end of the episode will be saved into the `Memory` buffer, and then provided as input to the policy gradient loss function. This information will be used to execute optimization within the training step. Memory will be cleared, and we will then do it all over again!\n",
        "\n",
        "Let's run the code block to train our self-driving agent. We will again visualize the evolution of the total reward as a function of training to get a sense of how the agent is learning. **You should reach a reward of at least 100 to get bare minimum stable behavior.**"
      ]
    },
    {
      "cell_type": "code",
      "source": [
        "# some utils\n",
        "\n",
        "### Reward function ###\n",
        "\n",
        "# Helper function that normalizes an np.array x\n",
        "def normalize(x):\n",
        "    x -= np.mean(x)\n",
        "    x /= np.std(x)\n",
        "    return x.astype(np.float32)\n",
        "\n",
        "# Compute normalized, discounted, cumulative rewards (i.e., return)\n",
        "# Arguments:\n",
        "#   rewards: reward at timesteps in episode\n",
        "#   gamma: discounting factor\n",
        "# Returns:\n",
        "#   normalized discounted reward\n",
        "def discount_rewards(rewards, gamma=0.95): \n",
        "    discounted_rewards = np.zeros_like(rewards)\n",
        "    R = 0\n",
        "    for t in reversed(range(0, len(rewards))):\n",
        "        # update the total discounted reward\n",
        "        R = R * gamma + rewards[t]\n",
        "        discounted_rewards[t] = R\n",
        "      \n",
        "    return discounted_rewards\n",
        "\n",
        "def normalized_discount_rewards(rewards, gamma=0.95):\n",
        "    return normalize(discount_rewards(rewards, gamma))\n",
        "\n",
        "### Agent Memory ###\n",
        "\n",
        "class Memory:\n",
        "    def __init__(self): \n",
        "        self.clear()\n",
        "\n",
        "    # Resets/restarts the memory buffer\n",
        "    def clear(self): \n",
        "        self.observations = []\n",
        "        self.actions = []\n",
        "        self.rewards = []\n",
        "\n",
        "    # Add observations, actions, rewards to memory\n",
        "    def add_to_memory(self, new_observation, new_action, new_reward): \n",
        "        self.observations.append(new_observation)\n",
        "        '''TODO: update the list of actions with new action'''\n",
        "        self.actions.append(new_action) # TODO\n",
        "        # ['''TODO''']\n",
        "        '''TODO: update the list of rewards with new reward'''\n",
        "        self.rewards.append(new_reward) # TODO\n",
        "        # ['''TODO''']\n",
        "\n",
        "    # Get observations, actions, normalized_discount_rewards from an index array\n",
        "    def get_from_memory(self, index):\n",
        "        self.norm_disc_rew = normalized_discount_rewards(self.rewards)\n",
        "        return np.array(self.observations)[index], np.array(self.actions)[index], np.array(self.norm_disc_rew)[index],\n",
        "\n",
        "    def __len__(self):\n",
        "        return len(self.actions)\n"
      ],
      "metadata": {
        "id": "XMWHcfXBDwLM"
      },
      "execution_count": null,
      "outputs": []
    },
    {
      "cell_type": "code",
      "source": [
        "## Training parameters and initialization ##\n",
        "## Re-run this cell to restart training from scratch ##\n",
        "\n",
        "''' TODO: Learning rate and optimizer '''\n",
        "# instantiate driving agent\n",
        "vista_reset()\n",
        "driving_model = create_driving_model()\n",
        "driving_model.to(device)\n",
        "# NOTE: the variable driving_model will be used in run_driving_model execution\n",
        "\n",
        "learning_rate = 5e-4\n",
        "# learning_rate = '''TODO'''\n",
        "optimizer = torch.optim.Adam(params=driving_model.parameters(), lr=learning_rate)\n",
        "# optimizer = '''TODO'''\n",
        "\n",
        "# to track our progress\n",
        "smoothed_reward = mdl.util.LossHistory(smoothing_factor=0.9)\n",
        "plotter = mdl.util.PeriodicPlotter(sec=2, xlabel='Iterations', ylabel='Rewards')\n",
        "\n",
        "# instantiate Memory buffer\n",
        "memory = Memory()"
      ],
      "metadata": {
        "id": "uZGn94sJCtBb"
      },
      "execution_count": null,
      "outputs": []
    },
    {
      "cell_type": "code",
      "execution_count": null,
      "metadata": {
        "scrolled": true,
        "id": "G8GhVvZQJ9Bs"
      },
      "outputs": [],
      "source": [
        "## Driving training! Main training block. ##\n",
        "## Note: stopping and restarting this cell will pick up training where you\n",
        "#        left off. To restart training you need to rerun the cell above as \n",
        "#        well (to re-initialize the model and optimizer)\n",
        "\n",
        "max_batch_size = 300\n",
        "max_reward = float('-inf') # keep track of the maximum reward acheived during training\n",
        "if hasattr(tqdm, '_instances'): tqdm._instances.clear() # clear if it exists\n",
        "for i_episode in range(500):\n",
        "\n",
        "    plotter.plot(smoothed_reward.get())\n",
        "    # Restart the environment\n",
        "    vista_reset()\n",
        "    memory.clear()\n",
        "    observation = grab_and_preprocess_obs(car)\n",
        "\n",
        "    # print(\"epidose: \", i_episode)\n",
        "    # step = 0\n",
        "    while True:\n",
        "        # TODO: using the car's current observation compute the desired \n",
        "        #  action (curvature) distribution by feeding it into our \n",
        "        #  driving model (use the function you already built to do this!) '''\n",
        "        curvature_dist = run_driving_model(observation)\n",
        "        # curvature_dist = '''TODO'''\n",
        "        \n",
        "        # TODO: sample from the action *distribution* to decide how to step\n",
        "        #   the car in the environment. You may want to check the documentation\n",
        "        #   for tfp.distributions.Normal online. Remember that the sampled action\n",
        "        #   should be a single scalar value after this step.\n",
        "        curvature_action = curvature_dist.sample()[0,0].to('cpu').detach().numpy()\n",
        "        # curvature_action = '''TODO'''\n",
        "        \n",
        "        # Step the simulated car with the same action\n",
        "        vista_step(curvature=curvature_action)\n",
        "        # print(step)\n",
        "        # step += 1\n",
        "               \n",
        "        # TODO: Compute the reward for this iteration. You define \n",
        "        #   the reward function for this policy, start with something \n",
        "        #   simple - for example, give a reward of 1 if the car did not \n",
        "        #   crash and a reward of 0 if it did crash.\n",
        "        reward = 1.0 if not check_crash(car) else 0.0\n",
        "        #  reward = '''TODO'''\n",
        "        \n",
        "        # add to memory\n",
        "        memory.add_to_memory(observation, curvature_action, np.float32(reward))\n",
        "\n",
        "        observation = grab_and_preprocess_obs(car)\n",
        "        \n",
        "        # is the episode over? did you crash or do so well that you're done?\n",
        "        if reward == 0.0:\n",
        "            # determine total reward and keep a record of this\n",
        "            total_reward = sum(memory.rewards)\n",
        "            smoothed_reward.append(total_reward)\n",
        "            \n",
        "            # execute training step - remember we don't know anything about how the \n",
        "            #   agent is doing until it has crashed! if the training step is too large \n",
        "            #   we need to sample a mini-batch for this step.\n",
        "            batch_size = min(len(memory), max_batch_size)\n",
        "            i = np.random.choice(len(memory), batch_size, replace=False)\n",
        "            # print(len(memory))\n",
        "            batch_observations, batch_actions, batch_rewards = memory.get_from_memory(i)\n",
        "            # print(batch_observations.shape)\n",
        "            # print(batch_actions.shape)\n",
        "            # print(batch_rewards.shape)\n",
        "            pred_dist = run_driving_model(batch_observations)\n",
        "            loss = compute_driving_loss(pred_dist, batch_actions, batch_rewards)\n",
        "            optimizer.zero_grad()\n",
        "            loss.backward()\n",
        "            torch.nn.utils.clip_grad_norm_(driving_model.parameters(), max_norm=2)\n",
        "            optimizer.step()\n",
        "       \n",
        "            # reset the memory\n",
        "            memory.clear()\n",
        "            break"
      ]
    },
    {
      "cell_type": "markdown",
      "metadata": {
        "id": "yevBnJCFJ9Bt"
      },
      "source": [
        "## Evaluate the self-driving agent\n",
        "\n",
        "Finally we can put our trained self-driving agent to the test! It will execute autonomous control, in VISTA, based on the learned controller. We will evaluate how well it does based on this distance the car travels without crashing. We await the result..."
      ]
    },
    {
      "cell_type": "code",
      "execution_count": null,
      "metadata": {
        "scrolled": true,
        "id": "DzeswkSnJ9Bt"
      },
      "outputs": [],
      "source": [
        "## Evaluation block!##\n",
        "\n",
        "i_step = 0\n",
        "num_episodes = 5\n",
        "num_reset = 5\n",
        "stream = VideoStream()\n",
        "for i_episode in range(num_episodes):\n",
        "    \n",
        "    # Restart the environment\n",
        "    vista_reset()\n",
        "    observation = grab_and_preprocess_obs(car)\n",
        "    \n",
        "    print(\"rolling out in env\")\n",
        "    episode_step = 0\n",
        "    while not check_crash(car) and episode_step < 100:\n",
        "        # using our observation, choose an action and take it in the environment\n",
        "        curvature_dist = run_driving_model(observation)\n",
        "        curvature = curvature_dist.sample()[0,0].to('cpu').detach().numpy()\n",
        "\n",
        "        # Step the simulated car with the same action\n",
        "        vista_step(curvature)\n",
        "        observation = grab_and_preprocess_obs(car)\n",
        "\n",
        "        vis_img = display.render()\n",
        "        stream.write(vis_img[:, :, ::-1], index=i_step)\n",
        "        i_step += 1\n",
        "        episode_step += 1\n",
        "        \n",
        "    for _ in range(num_reset):\n",
        "        stream.write(np.zeros_like(vis_img), index=i_step)\n",
        "        i_step += 1\n",
        "        \n",
        "print(f\"Average reward: {(i_step - (num_reset*num_episodes)) / num_episodes}\")\n",
        "\n",
        "print(\"Saving trajectory with trained policy...\")\n",
        "stream.save(\"trained_policy.mp4\")"
      ]
    },
    {
      "cell_type": "code",
      "source": [
        "mdl.lab3.play_video(\"trained_policy.mp4\")"
      ],
      "metadata": {
        "id": "CBUouSgTDeF4"
      },
      "execution_count": null,
      "outputs": []
    },
    {
      "cell_type": "markdown",
      "source": [
        "Congratulations for making it to this point and for training an autonomous vehicle control policy using deep neural networks and reinforcement learning! Now, with an eye towards the lab competition, think about what you can change -- about the controller model, your data, your learning algorithm... -- to improve performance even further. Below in 3.11 we have some suggestions to get you started. We hope to see your self-driving control policy put to the ***real*** test!"
      ],
      "metadata": {
        "id": "Dq6TZoYvoPyy"
      }
    }
  ],
  "metadata": {
    "accelerator": "GPU",
    "colab": {
      "collapsed_sections": [],
      "name": "RL_Solution.ipynb",
      "provenance": [],
      "toc_visible": true,
      "include_colab_link": true
    },
    "kernelspec": {
      "display_name": "Python 3",
      "language": "python",
      "name": "python3"
    },
    "language_info": {
      "codemirror_mode": {
        "name": "ipython",
        "version": 3
      },
      "file_extension": ".py",
      "mimetype": "text/x-python",
      "name": "python",
      "nbconvert_exporter": "python",
      "pygments_lexer": "ipython3",
      "version": "3.9.7"
    },
    "gpuClass": "standard"
  },
  "nbformat": 4,
  "nbformat_minor": 0
}