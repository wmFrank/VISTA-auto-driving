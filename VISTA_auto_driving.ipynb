{
  "cells": [
    {
      "cell_type": "markdown",
      "metadata": {
        "id": "view-in-github",
        "colab_type": "text"
      },
      "source": [
        "<a href=\"https://colab.research.google.com/github/wmFrank/VISTA-auto-driving/blob/main/VISTA_auto_driving.ipynb\" target=\"_parent\"><img src=\"https://colab.research.google.com/assets/colab-badge.svg\" alt=\"Open In Colab\"/></a>"
      ]
    },
    {
      "cell_type": "markdown",
      "metadata": {
        "id": "jrI6q7RmWQam"
      },
      "source": [
        "<table align=\"center\">\n",
        "  <td align=\"center\"><a target=\"_blank\" href=\"http://introtodeeplearning.com\">\n",
        "        <img src=\"https://i.ibb.co/Jr88sn2/mit.png\" style=\"padding-bottom:5px;\" />\n",
        "      Visit MIT Deep Learning</a></td>\n",
        "  <td align=\"center\"><a target=\"_blank\" href=\"https://colab.research.google.com/github/aamini/introtodeeplearning/blob/master/lab3/solutions/RL_Solution.ipynb\">\n",
        "        <img src=\"https://i.ibb.co/2P3SLwK/colab.png\"  style=\"padding-bottom:5px;\" />Run in Google Colab</a></td>\n",
        "  <td align=\"center\"><a target=\"_blank\" href=\"https://github.com/aamini/introtodeeplearning/blob/master/lab3/solutions/RL_Solution.ipynb\">\n",
        "        <img src=\"https://i.ibb.co/xfJbPmL/github.png\"  height=\"70px\" style=\"padding-bottom:5px;\"  />View Source on GitHub</a></td>\n",
        "</table>\n",
        "\n",
        "# Copyright Information"
      ]
    },
    {
      "cell_type": "code",
      "execution_count": 1,
      "metadata": {
        "id": "wkd375upWYok"
      },
      "outputs": [],
      "source": [
        "# Copyright 2022 MIT 6.S191 Introduction to Deep Learning. All Rights Reserved.\n",
        "# \n",
        "# Licensed under the MIT License. You may not use this file except in compliance\n",
        "# with the License. Use and/or modification of this code outside of 6.S191 must\n",
        "# reference:\n",
        "#\n",
        "# © MIT 6.S191: Introduction to Deep Learning\n",
        "# http://introtodeeplearning.com\n",
        "#"
      ]
    },
    {
      "cell_type": "markdown",
      "metadata": {
        "id": "WoXYKhfZMHiw"
      },
      "source": [
        "# Laboratory 3: Reinforcement Learning\n",
        "\n",
        "Reinforcement learning (RL) is a subset of machine learning which poses learning problems as interactions between agents and environments. It often assumes agents have no prior knowledge of a world, so they must learn to navigate environments by optimizing a reward function. Within an environment, an agent can take certain actions and receive feedback, in the form of positive or negative rewards, with respect to their decision. As such, an agent's feedback loop is somewhat akin to the idea of \"trial and error\", or the manner in which a child might learn to distinguish between \"good\" and \"bad\" actions.\n",
        "\n",
        "In practical terms, our RL agent will interact with the environment by taking an action at each timestep, receiving a corresponding reward, and updating its state according to what it has \"learned\".  \n",
        "\n",
        "![alt text](https://www.kdnuggets.com/images/reinforcement-learning-fig1-700.jpg)\n",
        "\n",
        "While the ultimate goal of reinforcement learning is to teach agents to act in the real, physical world, simulated environments -- like games and simulation engines -- provide a convenient proving ground for developing RL algorithms and agents.\n",
        "\n",
        "In previous labs, we have explored both supervised (with LSTMs, CNNs) and unsupervised / semi-supervised (with VAEs) learning tasks. Reinforcement learning is fundamentally different, in that we are training a deep learning algorithm to govern the actions of our RL agent, that is trying, within its environment, to find the optimal way to achieve a goal. The goal of training an RL agent is to determine the best next step to take to earn the greatest final payoff or return. In this lab, we focus on building a reinforcement learning algorithm to master two different environments with varying complexity. \n",
        "\n",
        "1.   **Cartpole**:   Balance a pole, protruding from a cart, in an upright position by only moving the base left or right. Environment with a low-dimensional observation space.\n",
        "2.   [**Driving in VISTA**](https://www.mit.edu/~amini/pubs/pdf/learning-in-simulation-vista.pdf): Learn a driving control policy for an autonomous vehicle, end-to-end from raw pixel inputs and entirely in the data-driven simulation environment of VISTA. Environment with a high-dimensional observation space -- learning directly from raw pixels.\n",
        "\n",
        "Let's get started! First we'll import TensorFlow, the course package, and some dependencies.\n"
      ]
    },
    {
      "cell_type": "code",
      "execution_count": 2,
      "metadata": {
        "id": "KR9QHuleJ9Bh",
        "outputId": "776717fa-e462-4180-f3bf-067e03b51f65",
        "colab": {
          "base_uri": "https://localhost:8080/"
        }
      },
      "outputs": [
        {
          "output_type": "stream",
          "name": "stdout",
          "text": [
            "Colab only includes TensorFlow 2.x; %tensorflow_version has no effect.\n",
            "Installing MIT deep learning package... Done\n"
          ]
        }
      ],
      "source": [
        "# Import Tensorflow 2.0\n",
        "%tensorflow_version 2.x\n",
        "import tensorflow as tf\n",
        "\n",
        "gpus = tf.config.experimental.list_physical_devices('GPU')\n",
        "if gpus:\n",
        "    for gpu in gpus:\n",
        "        tf.config.experimental.set_memory_growth(gpu, True)\n",
        "\n",
        "# Download and import the MIT 6.S191 package\n",
        "!printf \"Installing MIT deep learning package... \"\n",
        "!pip install --upgrade git+https://github.com/aamini/introtodeeplearning.git &> /dev/null\n",
        "!echo \"Done\""
      ]
    },
    {
      "cell_type": "code",
      "execution_count": 3,
      "metadata": {
        "id": "EvdePP-VyVWp"
      },
      "outputs": [],
      "source": [
        "#Install some dependencies for visualizing the agents\n",
        "!apt-get install -y xvfb python-opengl x11-utils &> /dev/null\n",
        "!pip install gym pyvirtualdisplay scikit-video ffio pyrender &> /dev/null\n",
        "!pip install tensorflow_probability==0.12.0 &> /dev/null\n",
        "import os\n",
        "os.environ['PYOPENGL_PLATFORM'] = 'egl'\n",
        "\n",
        "import numpy as np\n",
        "import matplotlib, cv2\n",
        "import matplotlib.pyplot as plt\n",
        "import base64, io, os, time, gym\n",
        "import IPython, functools\n",
        "import time\n",
        "from tqdm import tqdm\n",
        "import tensorflow_probability as tfp\n",
        "\n",
        "import mitdeeplearning as mdl"
      ]
    },
    {
      "cell_type": "markdown",
      "metadata": {
        "id": "zmrHSiXKTXTY"
      },
      "source": [
        "Before we dive in, let's take a step back and outline our approach, which is generally applicable to reinforcement learning problems in general:\n",
        "\n",
        "1. **Initialize our environment and our agent**: here we will describe the different observations and actions the agent can make in the environemnt.\n",
        "2. **Define our agent's memory**: this will enable the agent to remember its past actions, observations, and rewards.\n",
        "3. **Define a reward function**: describes the reward associated with an action or sequence of actions.\n",
        "4. **Define the learning algorithm**: this will be used to reinforce the agent's good behaviors and discourage bad behaviors.\n"
      ]
    },
    {
      "cell_type": "markdown",
      "metadata": {
        "id": "UT7YL8KBJIIc"
      },
      "source": [
        "# Part 1: Cartpole\n",
        "\n",
        "## 3.1 Define the Cartpole environment and agent\n",
        "\n",
        "### Environment \n",
        "\n",
        "In order to model the environment for the Cartpole task, we'll be using a toolkit developed by OpenAI called [OpenAI Gym](https://gym.openai.com/). It provides several pre-defined environments for training and testing reinforcement learning agents, including those for classic physics control tasks, Atari video games, and robotic simulations. To access the Cartpole environment, we can use `env = gym.make(\"CartPole-v0\")`, which we gained access to when we imported the `gym` package. We can instantiate different [environments](https://gym.openai.com/envs/#classic_control) by passing the enivronment name to the `make` function.\n",
        "\n",
        "One issue we might experience when developing RL algorithms is that many aspects of the learning process are inherently random: initializing game states, changes in the environment, and the agent's actions. As such, it can be helpful to set a initial \"seed\" for the environment to ensure some level of reproducibility. Much like you might use `numpy.random.seed`, we can call the comparable function in gym, `seed`, with our defined environment to ensure the environment's random variables are initialized the same each time."
      ]
    },
    {
      "cell_type": "code",
      "execution_count": 4,
      "metadata": {
        "id": "quv9SC0iIYFm",
        "outputId": "24033a07-67db-4e49-b1cc-fba5ab717852",
        "colab": {
          "base_uri": "https://localhost:8080/"
        }
      },
      "outputs": [
        {
          "output_type": "execute_result",
          "data": {
            "text/plain": [
              "[1]"
            ]
          },
          "metadata": {},
          "execution_count": 4
        }
      ],
      "source": [
        "### Instantiate the Cartpole environment ###\n",
        "\n",
        "env = gym.make(\"CartPole-v1\")\n",
        "env.seed(1)"
      ]
    },
    {
      "cell_type": "markdown",
      "metadata": {
        "id": "mhEITUcKK455"
      },
      "source": [
        "In Cartpole, a pole is attached by an un-actuated joint to a cart, which moves along a frictionless track. The pole starts upright, and the goal is to prevent it from falling over. The system is controlled by applying a force of +1 or -1 to the cart. A reward of +1 is provided for every timestep that the pole remains upright. The episode ends when the pole is more than 15 degrees from vertical, or the cart moves more than 2.4 units from the center of the track. A visual summary of the cartpole environment is depicted below:\n",
        "\n",
        "<img width=\"400px\" src=\"https://danielpiedrahita.files.wordpress.com/2017/02/cart-pole.png\"></img>\n",
        "\n",
        "Given this setup for the environment and the objective of the game, we can think about: 1) what observations help define the environment's state; 2) what actions the agent can take. \n",
        "\n",
        "First, let's consider the observation space. In this Cartpole environment our observations are:\n",
        "\n",
        "1. Cart position\n",
        "2. Cart velocity\n",
        "3. Pole angle\n",
        "4. Pole rotation rate\n",
        "\n",
        "We can confirm the size of the space by querying the environment's observation space:\n"
      ]
    },
    {
      "cell_type": "code",
      "execution_count": 5,
      "metadata": {
        "id": "UVJaEcbdIX82",
        "outputId": "51cfd5a8-5ede-449a-80e6-88fbe7442aca",
        "colab": {
          "base_uri": "https://localhost:8080/"
        }
      },
      "outputs": [
        {
          "output_type": "stream",
          "name": "stdout",
          "text": [
            "Environment has observation space = Box(-3.4028234663852886e+38, 3.4028234663852886e+38, (4,), float32)\n"
          ]
        }
      ],
      "source": [
        "n_observations = env.observation_space\n",
        "print(\"Environment has observation space =\", n_observations)"
      ]
    },
    {
      "cell_type": "markdown",
      "metadata": {
        "id": "ZibGgjrALgPM"
      },
      "source": [
        "Second, we consider the action space. At every time step, the agent can move either right or left. Again we can confirm the size of the action space by querying the environment:"
      ]
    },
    {
      "cell_type": "code",
      "execution_count": 6,
      "metadata": {
        "id": "qc9SIPxBIXrm",
        "outputId": "989f5656-20a6-476e-ac9e-3ece3ad17757",
        "colab": {
          "base_uri": "https://localhost:8080/"
        }
      },
      "outputs": [
        {
          "output_type": "stream",
          "name": "stdout",
          "text": [
            "Number of possible actions that the agent can choose from = 2\n"
          ]
        }
      ],
      "source": [
        "n_actions = env.action_space.n\n",
        "print(\"Number of possible actions that the agent can choose from =\", n_actions)"
      ]
    },
    {
      "cell_type": "markdown",
      "metadata": {
        "id": "pPfHME8aRKkb"
      },
      "source": [
        "### Cartpole agent\n",
        "\n",
        "Now that we have instantiated the environment and understood the dimensionality of the observation and action spaces, we are ready to define our agent. In deep reinforcement learning, a deep neural network defines the agent. This network will take as input an observation of the environment and output the probability of taking each of the possible actions. Since Cartpole is defined by a low-dimensional observation space, a simple feed-forward neural network should work well for our agent. We will define this using the `Sequential` API.\n"
      ]
    },
    {
      "cell_type": "code",
      "execution_count": 7,
      "metadata": {
        "id": "W-o_XK4oQ4eu"
      },
      "outputs": [],
      "source": [
        "### Define the Cartpole agent ###\n",
        "\n",
        "# Defines a feed-forward neural network\n",
        "def create_cartpole_model():\n",
        "    model = tf.keras.models.Sequential([\n",
        "        # First Dense layer\n",
        "        tf.keras.layers.Dense(units=32, activation='relu'),\n",
        "        \n",
        "        # TODO: Define the last Dense layer, which will provide the network's output.\n",
        "        # Think about the space the agent needs to act in!\n",
        "        tf.keras.layers.Dense(units=n_actions, activation=None) # TODO\n",
        "        # ['''TODO''' Dense layer to output action probabilities]\n",
        "    ])\n",
        "    return model\n",
        "\n",
        "cartpole_model = create_cartpole_model()"
      ]
    },
    {
      "cell_type": "markdown",
      "metadata": {
        "id": "d5D5NSIYS2IW"
      },
      "source": [
        "Now that we have defined the core network architecture, we will define an *action function* that executes a forward pass through the network, given a set of observations, and samples from the output. This sampling from the output probabilities will be used to select the next action for the agent. We will also add support so that the `choose_action` function can handle either a single observation or a batch of observations.\n",
        "\n",
        "**Critically, this action function is totally general -- we will use this function for learning control algorithms for Cartpole, but it is applicable to other RL tasks, as well!**"
      ]
    },
    {
      "cell_type": "code",
      "execution_count": 8,
      "metadata": {
        "id": "E_vVZRr8Q4R_"
      },
      "outputs": [],
      "source": [
        "### Define the agent's action function ###\n",
        "\n",
        "# Function that takes observations as input, executes a forward pass through model, \n",
        "#   and outputs a sampled action.\n",
        "# Arguments:\n",
        "#   model: the network that defines our agent\n",
        "#   observation: observation(s) which is/are fed as input to the model\n",
        "#   single: flag as to whether we are handling a single observation or batch of\n",
        "#     observations, provided as an np.array\n",
        "# Returns:\n",
        "#   action: choice of agent action\n",
        "def choose_action(model, observation, single=True):\n",
        "    # add batch dimension to the observation if only a single example was provided\n",
        "    observation = np.expand_dims(observation, axis=0) if single else observation\n",
        "\n",
        "    '''TODO: feed the observations through the model to predict the log probabilities of each possible action.'''\n",
        "    logits = model.predict(observation) # TODO\n",
        "    # logits = model.predict('''TODO''')\n",
        "\n",
        "    '''TODO: Choose an action from the categorical distribution defined by the log \n",
        "       probabilities of each possible action.'''\n",
        "    action = tf.random.categorical(logits, num_samples=1)\n",
        "    # action = ['''TODO''']\n",
        "\n",
        "    action = action.numpy().flatten()\n",
        "\n",
        "    return action[0] if single else action"
      ]
    },
    {
      "cell_type": "markdown",
      "metadata": {
        "id": "_tR9uAWcTnkr"
      },
      "source": [
        "## 3.2 Define the agent's memory\n",
        "\n",
        "Now that we have instantiated the environment and defined the agent network architecture and action function, we are ready to move on to the next step in our RL workflow:\n",
        "1. **Initialize our environment and our agent**: here we will describe the different observations and actions the agent can make in the environemnt.\n",
        "2. **Define our agent's memory**: this will enable the agent to remember its past actions, observations, and rewards.\n",
        "3. **Define the learning algorithm**: this will be used to reinforce the agent's good behaviors and discourage bad behaviors.\n",
        "\n",
        "In reinforcement learning, training occurs alongside the agent's acting in the environment; an *episode* refers to a sequence of actions that ends in some terminal state, such as the pole falling down or the cart crashing. The agent will need to remember all of its observations and actions, such that once an episode ends, it can learn to \"reinforce\" the good actions and punish the undesirable actions via training. Our first step is to define a simple `Memory` buffer that contains the agent's observations, actions, and received rewards from a given episode. We will also add support to combine a list of `Memory` objects into a single `Memory`. This will be very useful for batching, which will help you accelerate training later on in the lab.\n",
        "\n",
        "**Once again, note the modularity of this memory buffer -- it can and will be applied to other RL tasks as well!**"
      ]
    },
    {
      "cell_type": "code",
      "execution_count": 4,
      "metadata": {
        "id": "8MM6JwXVQ4JG"
      },
      "outputs": [],
      "source": [
        "### Agent Memory ###\n",
        "\n",
        "class Memory:\n",
        "    def __init__(self): \n",
        "        self.clear()\n",
        "\n",
        "  # Resets/restarts the memory buffer\n",
        "    def clear(self): \n",
        "        self.observations = []\n",
        "        self.actions = []\n",
        "        self.rewards = []\n",
        "\n",
        "  # Add observations, actions, rewards to memory\n",
        "    def add_to_memory(self, new_observation, new_action, new_reward): \n",
        "        self.observations.append(new_observation)\n",
        "        '''TODO: update the list of actions with new action'''\n",
        "        self.actions.append(new_action) # TODO\n",
        "        # ['''TODO''']\n",
        "        '''TODO: update the list of rewards with new reward'''\n",
        "        self.rewards.append(new_reward) # TODO\n",
        "        # ['''TODO''']\n",
        "\n",
        "    def __len__(self):\n",
        "        return len(self.actions)\n",
        "\n",
        "# Instantiate a single Memory buffer\n",
        "memory = Memory()"
      ]
    },
    {
      "cell_type": "markdown",
      "metadata": {
        "id": "D4YhtPaUVj5m"
      },
      "source": [
        "## 3.3 Reward function\n",
        "\n",
        "We're almost ready to begin the learning algorithm for our agent! The next step is to compute the rewards of our agent as it acts in the environment. Since we (and the agent) is uncertain about if and when the game or task will end (i.e., when the pole will fall), it is useful to emphasize getting rewards **now** rather than later in the future -- this is the idea of discounting. This is a similar concept to discounting money in the case of interest. Recall from lecture, we use reward discount to give more preference at getting rewards now rather than later in the future. The idea of discounting rewards is similar to discounting money in the case of interest.\n",
        "\n",
        "To compute the expected cumulative reward, known as the **return**, at a given timestep in a learning episode, we sum the discounted rewards expected at that time step $t$, within a learning episode, and projecting into the future. We define the return (cumulative reward) at a time step $t$, $R_{t}$ as:\n",
        "\n",
        ">$R_{t}=\\sum_{k=0}^\\infty\\gamma^kr_{t+k}$\n",
        "\n",
        "where  $0 < \\gamma < 1$ is the discount factor and $r_{t}$ is the reward at time step $t$, and the index $k$ increments projection into the future within a single learning episode. Intuitively, you can think of this function as depreciating any rewards received at later time steps, which will force the agent prioritize getting rewards now. Since we can't extend episodes to infinity, in practice the computation will be limited to the number of timesteps in an episode -- after that the reward is assumed to be zero.\n",
        "\n",
        "Take note of the form of this sum -- we'll have to be clever about how we implement this function. Specifically, we'll need to initialize an array of zeros, with length of the number of time steps, and fill it with the real discounted reward values as we loop through the rewards from the episode, which will have been saved in the agents memory. What we ultimately care about is which actions are better relative to other actions taken in that episode -- so, we'll normalize our computed rewards, using the mean and standard deviation of the rewards across the learning episode.\n",
        "\n",
        "We will use this definition of the reward function in both parts of the lab so make sure you have it executed!\n"
      ]
    },
    {
      "cell_type": "code",
      "execution_count": 5,
      "metadata": {
        "id": "5_Q2OFYtQ32X"
      },
      "outputs": [],
      "source": [
        "### Reward function ###\n",
        "\n",
        "# Helper function that normalizes an np.array x\n",
        "def normalize(x):\n",
        "    x -= np.mean(x)\n",
        "    x /= np.std(x)\n",
        "    return x.astype(np.float32)\n",
        "\n",
        "# Compute normalized, discounted, cumulative rewards (i.e., return)\n",
        "# Arguments:\n",
        "#   rewards: reward at timesteps in episode\n",
        "#   gamma: discounting factor\n",
        "# Returns:\n",
        "#   normalized discounted reward\n",
        "def discount_rewards(rewards, gamma=0.95): \n",
        "    discounted_rewards = np.zeros_like(rewards)\n",
        "    R = 0\n",
        "    for t in reversed(range(0, len(rewards))):\n",
        "        # update the total discounted reward\n",
        "        R = R * gamma + rewards[t]\n",
        "        discounted_rewards[t] = R\n",
        "      \n",
        "    return normalize(discounted_rewards)"
      ]
    },
    {
      "cell_type": "markdown",
      "metadata": {
        "id": "QzbY-mjGYcmt"
      },
      "source": [
        "## 3.4 Learning algorithm\n",
        "\n",
        "Now we can start to define the learing algorithm which will be used to reinforce good behaviors of the agent and discourage bad behaviours. In this lab, we will focus on *policy gradient* methods which aim to **maximize** the likelihood of actions that result in large rewards. Equivalently, this means that we want to **minimize** the negative likelihood of these same actions. We achieve this by simply **scaling** the probabilities by their associated rewards -- effectively amplifying the likelihood of actions that resujlt in large rewards.\n",
        "\n",
        "Since the log function is monotonically increasing, this means that minimizing **negative likelihood** is equivalent to minimizing **negative log-likelihood**.  Recall that we can easily compute the negative log-likelihood of a discrete action by evaluting its [softmax cross entropy](https://www.tensorflow.org/api_docs/python/tf/nn/sparse_softmax_cross_entropy_with_logits). Like in supervised learning, we can use stochastic gradient descent methods to achieve the desired minimization. \n",
        "\n",
        "Let's begin by defining the loss function."
      ]
    },
    {
      "cell_type": "code",
      "execution_count": 11,
      "metadata": {
        "id": "fsgZ3IDCY_Zn"
      },
      "outputs": [],
      "source": [
        "### Loss function ###\n",
        "\n",
        "# Arguments:\n",
        "#   logits: network's predictions for actions to take\n",
        "#   actions: the actions the agent took in an episode\n",
        "#   rewards: the rewards the agent received in an episode\n",
        "# Returns:\n",
        "#   loss\n",
        "def compute_loss(logits, actions, rewards): \n",
        "    '''TODO: complete the function call to compute the negative log probabilities'''\n",
        "    neg_logprob = tf.nn.sparse_softmax_cross_entropy_with_logits(\n",
        "        logits=logits, labels=actions) # TODO\n",
        "    # neg_logprob = tf.nn.sparse_softmax_cross_entropy_with_logits(\n",
        "    #    logits='''TODO''', labels='''TODO''')\n",
        "  \n",
        "    '''TODO: scale the negative log probability by the rewards'''\n",
        "    loss = tf.reduce_mean( neg_logprob * rewards ) # TODO\n",
        "    # loss = tf.reduce_mean('''TODO''')\n",
        "    return loss"
      ]
    },
    {
      "cell_type": "markdown",
      "metadata": {
        "id": "Rr5vQ9fqbPpp"
      },
      "source": [
        "Now let's use the loss function to define a training step of our learning algorithm. This is a very generalizable definition which we will use "
      ]
    },
    {
      "cell_type": "code",
      "execution_count": 6,
      "metadata": {
        "id": "_50ada7nbZ7L"
      },
      "outputs": [],
      "source": [
        "### Training step (forward and backpropagation) ###\n",
        "\n",
        "def train_step(model, loss_function, optimizer, observations, actions, discounted_rewards, custom_fwd_fn=None):\n",
        "    with tf.GradientTape() as tape:\n",
        "        # Forward propagate through the agent network\n",
        "        if custom_fwd_fn is not None:\n",
        "            prediction = custom_fwd_fn(observations)\n",
        "        else: \n",
        "            prediction = model(observations)\n",
        "\n",
        "        '''TODO: call the compute_loss function to compute the loss'''\n",
        "        loss = loss_function(prediction, actions, discounted_rewards) # TODO\n",
        "        # loss = loss_function('''TODO''', '''TODO''', '''TODO''')\n",
        "\n",
        "    '''TODO: run backpropagation to minimize the loss using the tape.gradient method. \n",
        "             Unlike supervised learning, RL is *extremely* noisy, so you will benefit \n",
        "             from additionally clipping your gradients to avoid falling into \n",
        "             dangerous local minima. After computing your gradients try also clipping\n",
        "             by a global normalizer. Try different clipping values, usually clipping \n",
        "             between 0.5 and 5 provides reasonable results. '''\n",
        "    grads = tape.gradient(loss, model.trainable_variables) # TODO\n",
        "    # grads = tape.gradient('''TODO''', '''TODO''')\n",
        "    grads, _ = tf.clip_by_global_norm(grads, 2)\n",
        "    # grads, _ = tf.clip_by_global_norm(grads, '''TODO''')\n",
        "    optimizer.apply_gradients(zip(grads, model.trainable_variables))"
      ]
    },
    {
      "cell_type": "markdown",
      "metadata": {
        "id": "XsjKXh6BcgjR"
      },
      "source": [
        "## 3.5 Run cartpole!\n",
        "\n",
        "Having had no prior knowledge of the environment, the agent will begin to learn how to balance the pole on the cart based only on the feedback received from the environment! Having defined how our agent can move, how it takes in new observations, and how it updates its state, we'll see how it gradually learns a policy of actions to optimize balancing the pole as long as possible. To do this, we'll track how the rewards evolve as a function of training -- how should the rewards change as training progresses?"
      ]
    },
    {
      "cell_type": "code",
      "execution_count": 13,
      "metadata": {
        "id": "-hZ7E6JOJ9Bn"
      },
      "outputs": [],
      "source": [
        "## Training parameters ##\n",
        "## Re-run this cell to restart training from scratch ##\n",
        "\n",
        "# TODO: Learning rate and optimizer\n",
        "learning_rate = 1e-3\n",
        "# learning_rate = '''TODO'''\n",
        "optimizer = tf.keras.optimizers.Adam(learning_rate)\n",
        "# optimizer = '''TODO'''\n",
        "\n",
        "# instantiate cartpole agent\n",
        "cartpole_model = create_cartpole_model()\n",
        "\n",
        "# to track our progress\n",
        "smoothed_reward = mdl.util.LossHistory(smoothing_factor=0.95)\n",
        "plotter = mdl.util.PeriodicPlotter(sec=2, xlabel='Iterations', ylabel='Rewards')"
      ]
    },
    {
      "cell_type": "code",
      "execution_count": 14,
      "metadata": {
        "id": "XmOzc2rrcn8Q",
        "scrolled": false,
        "outputId": "2ca2d220-4791-44ea-cabd-bf4b4c1cebdc",
        "colab": {
          "base_uri": "https://localhost:8080/",
          "height": 541
        }
      },
      "outputs": [
        {
          "output_type": "display_data",
          "data": {
            "text/plain": [
              "<Figure size 432x288 with 1 Axes>"
            ],
            "image/png": "[encoded data removed]"
          },
          "metadata": {}
        },
        {
          "output_type": "display_data",
          "data": {
            "text/plain": [
              "<Figure size 432x288 with 1 Axes>"
            ],
            "image/png": "[encoded data removed]"
          },
          "metadata": {
            "needs_background": "light"
          }
        }
      ],
      "source": [
        "## Cartpole training! ##\n",
        "## Note: stoping and restarting this cell will pick up training where you\n",
        "#        left off. To restart training you need to rerun the cell above as \n",
        "#        well (to re-initialize the model and optimizer)\n",
        "\n",
        "if hasattr(tqdm, '_instances'): tqdm._instances.clear() # clear if it exists\n",
        "for i_episode in range(500):\n",
        "\n",
        "    plotter.plot(smoothed_reward.get())\n",
        "    # Restart the environment\n",
        "    observation = env.reset()\n",
        "    memory.clear()\n",
        "\n",
        "    while True:\n",
        "        # using our observation, choose an action and take it in the environment\n",
        "        action = choose_action(cartpole_model, observation)\n",
        "        next_observation, reward, done, info = env.step(action)\n",
        "        # add to memory\n",
        "        memory.add_to_memory(observation, action, reward)\n",
        "\n",
        "        # is the episode over? did you crash or do so well that you're done?\n",
        "        if done:\n",
        "            # determine total reward and keep a record of this\n",
        "            total_reward = sum(memory.rewards)\n",
        "            smoothed_reward.append(total_reward)\n",
        "          \n",
        "            # initiate training - remember we don't know anything about how the \n",
        "            #   agent is doing until it has crashed!\n",
        "            g = train_step(cartpole_model, compute_loss, optimizer, \n",
        "                       observations=np.vstack(memory.observations),\n",
        "                       actions=np.array(memory.actions),\n",
        "                       discounted_rewards = discount_rewards(memory.rewards))\n",
        "          \n",
        "            # reset the memory\n",
        "            memory.clear()\n",
        "            break\n",
        "        # update our observatons\n",
        "        observation = next_observation"
      ]
    },
    {
      "cell_type": "markdown",
      "metadata": {
        "id": "mkcUtGF1VE-K"
      },
      "source": [
        "To get a sense of how our agent did, we can save a video of the trained model working on balancing the pole. Realize that this is a brand new environment that the agent has not seen before!\n",
        "\n",
        "Let's display the saved video to watch how our agent did!\n"
      ]
    },
    {
      "cell_type": "code",
      "execution_count": 15,
      "metadata": {
        "id": "PAYBkv6Zbk0J",
        "scrolled": true,
        "outputId": "bdc23f7f-76de-4cbe-8f64-ab9ea9621091",
        "colab": {
          "base_uri": "https://localhost:8080/",
          "height": 439
        }
      },
      "outputs": [
        {
          "output_type": "stream",
          "name": "stdout",
          "text": [
            "Successfully saved 263 frames into CartPole-v1.mp4!\n"
          ]
        },
        {
          "output_type": "execute_result",
          "data": {
            "text/plain": [
              "<IPython.core.display.HTML object>"
            ],
            "text/html": [
              "\n",
              "        <video controls >\n",
              "            <source src=\"data:video/mp4;base64,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\" type=\"video/mp4\" />\n",
              "        </video>"
            ]
          },
          "metadata": {},
          "execution_count": 15
        }
      ],
      "source": [
        "matplotlib.use('Agg') \n",
        "saved_cartpole = mdl.lab3.save_video_of_model(cartpole_model, \"CartPole-v1\")\n",
        "mdl.lab3.play_video(saved_cartpole)"
      ]
    },
    {
      "cell_type": "markdown",
      "metadata": {
        "id": "CSbVNDpaVb3_"
      },
      "source": [
        "How does the agent perform? Could you train it for shorter amounts of time and still perform well? Do you think that training longer would help even more? "
      ]
    },
    {
      "cell_type": "markdown",
      "metadata": {
        "id": "Eu6Mqxc720ST"
      },
      "source": [
        "# Part 2: Training Autonomous Driving Policies in VISTA\n",
        "Autonomous control has traditionally be dominated by algorithms that explicitly decompose individual aspects of the control pipeline. For example, in autonomous driving, traditional methods work by first detecting road and lane boundaries, and then using path planning and rule-based methods to derive a control policy. Deep learning offers something very different -- the possibility of optimizing all these steps simultaneously, learning control end-to-end directly from raw sensory inputs.\n",
        "\n",
        "**You will explore the power of deep learning to learn autonomous control policies that are trained *end-to-end, directly from raw sensory data, and entirely within a simulated world*.**\n",
        "\n",
        "We will use the data-driven simulation engine [VISTA](https://ieeexplore.ieee.org/stamp/stamp.jsp?arnumber=8957584&tag=1), which uses techniques in computer vision to synthesize new photorealistic trajectories and driving viewpoints, that are still consistent with the world's appearance and fall within the envelope of a real driving scene. This is a powerful approach -- we can synthesize data that is photorealistic, grounded in the real world, and then use this data for training and testing autonomous vehicle control policies within this simulator.\n",
        "\n",
        "In this part of the lab, you will use reinforcement lerning to build a self-driving agent with a neural network-based controller trained on RGB camera data. We will train the self-driving agent for the task of lane following. Beyond this data modality and control task, VISTA also supports [different data modalities](https://arxiv.org/pdf/2111.12083.pdf) (such as LiDAR data) and [different learning tasks](https://arxiv.org/pdf/2111.12137.pdf) (such as multi-car interactions).\n",
        "<p align=\"center\">\n",
        "<img src=\"https://raw.githubusercontent.com/aamini/introtodeeplearning/master/lab3/img/vista_overview.png\" width=\"600\"/>\n",
        "</p>\n",
        "\n",
        "\n",
        "You will put your agent to the test in the VISTA environment, and potentially, on board a full-scale autonomous vehicle! Specifically, as part of the MIT lab competitions, high-performing agents -- evaluated based on the maximum distance they can travel without crashing -- will have the opportunity to be put to the ***real*** test onboard a full-scale autonomous vehicle!!! \n",
        "\n",
        "We start by installing dependencies. This includes installing the VISTA package itself."
      ]
    },
    {
      "cell_type": "code",
      "source": [
        "!pip install --upgrade git+https://github.com/vista-simulator/vista-6s191.git"
      ],
      "metadata": {
        "id": "WKWcagMpRLIB"
      },
      "execution_count": null,
      "outputs": []
    },
    {
      "cell_type": "code",
      "source": [
        "!pip install vista"
      ],
      "metadata": {
        "id": "Ki38EsF279U1",
        "outputId": "206264f8-1797-4cd2-ef41-3c1db558b560",
        "colab": {
          "base_uri": "https://localhost:8080/"
        }
      },
      "execution_count": 7,
      "outputs": [
        {
          "output_type": "stream",
          "name": "stdout",
          "text": [
            "Looking in indexes: https://pypi.org/simple, https://us-python.pkg.dev/colab-wheels/public/simple/\n",
            "Collecting vista\n",
            "  Downloading vista-2.0.6.tar.gz (60 kB)\n",
            "\u001b[K     |████████████████████████████████| 60 kB 8.0 MB/s \n",
            "\u001b[?25hBuilding wheels for collected packages: vista\n",
            "  Building wheel for vista (setup.py) ... \u001b[?25l\u001b[?25hdone\n",
            "  Created wheel for vista: filename=vista-2.0.6-py3-none-any.whl size=73916 sha256=afd4d7523a2ff248c18395315ab8a8a2f0d41e2378461254577927c7324bed63\n",
            "  Stored in directory: /root/.cache/pip/wheels/16/91/f4/8d1f71d688fd04c4498f44af5ee0080964802485682a87be35\n",
            "Successfully built vista\n",
            "Installing collected packages: vista\n",
            "Successfully installed vista-2.0.6\n"
          ]
        }
      ]
    },
    {
      "cell_type": "code",
      "source": [
        "import vista\n",
        "from vista.utils import logging\n",
        "logging.setLevel(logging.ERROR)"
      ],
      "metadata": {
        "id": "ByV6c5GKTgHq",
        "outputId": "9cd81ef5-4006-46e6-f61f-08de7ebebed4",
        "colab": {
          "base_uri": "https://localhost:8080/"
        }
      },
      "execution_count": 8,
      "outputs": [
        {
          "output_type": "stream",
          "name": "stderr",
          "text": [
            "\u001b[93m2022-08-05 07:49:59,121::WARNING::[vista.entities.sensors.EventCamera.<module>] Fail to import module for event camera. Remember to do source <some-dir>/openeb/build/utils/scripts/setup_env.shCan ignore this if not using it\u001b[0;0m\n"
          ]
        }
      ]
    },
    {
      "cell_type": "markdown",
      "metadata": {
        "id": "70Vpby5VJ9Bp"
      },
      "source": [
        "VISTA provides some documentation which will be very helpful to completing this lab. You can always use the `?vista` command to access the package documentation."
      ]
    },
    {
      "cell_type": "code",
      "source": [
        "### Access documentation for VISTA\n",
        "### Run ?vista.<[name of module or function]>\n",
        "?vista.Display "
      ],
      "metadata": {
        "id": "-RTw0OK4nTYi"
      },
      "execution_count": 9,
      "outputs": []
    },
    {
      "cell_type": "markdown",
      "source": [
        "## 3.6 Create an environment in VISTA\n",
        "\n",
        "Environments in VISTA are based on and built from human-collected driving *traces*. A trace is the data from a single driving run. In this case we'll be working with RGB camera data, from the viewpoint of the driver looking out at the road: the camera collects this data as the car drives around!\n",
        "\n",
        "We will start by accessing a trace. We use that trace to instantiate an environment within VISTA. This is our `World` and defines the environment we will use for reinforcement learning. The trace itself helps to define a space for the environment; with VISTA, we can use the trace to generate new photorealistic viewpoints anywhere within that space. This provides valuable new training data as well as a robust testing environment.\n",
        "\n",
        "The simulated environment of VISTA will serve as our training ground and testbed for reinforcement learning. We also define an `Agent` -- a car -- that will actually move around in the environmnet, and make and carry out *actions* in this world. Because this is an entirely simulated environment, our car agent will also be simulated!\n",
        "\n"
      ],
      "metadata": {
        "id": "XauFMMZjnYxn"
      }
    },
    {
      "cell_type": "code",
      "execution_count": 10,
      "metadata": {
        "scrolled": true,
        "id": "JrTpTBJsJ9Bp",
        "outputId": "d6270e79-3fa3-43ab-eecf-57ddf27e61ce",
        "colab": {
          "base_uri": "https://localhost:8080/",
          "height": 522
        }
      },
      "outputs": [
        {
          "output_type": "stream",
          "name": "stdout",
          "text": [
            "vista_traces.zip    100%[===================>] 609.05M  16.8MB/s    in 38s     \n",
            "Unzipping data...\n",
            "Done downloading and unzipping data!\n"
          ]
        },
        {
          "output_type": "display_data",
          "data": {
            "text/plain": [
              "<Figure size 1382.4x460.8 with 2 Axes>"
            ],
            "image/png": "[encoded data removed]"
          },
          "metadata": {}
        }
      ],
      "source": [
        "# Download and extract the data for vista (auto-skip if already downloaded)\n",
        "!wget -nc -q --show-progress https://www.dropbox.com/s/62pao4mipyzk3xu/vista_traces.zip\n",
        "print(\"Unzipping data...\")\n",
        "!unzip -o -q vista_traces.zip\n",
        "print(\"Done downloading and unzipping data!\")\n",
        "\n",
        "trace_root = \"./vista_traces\"\n",
        "trace_path = [\n",
        "    \"20210726-154641_lexus_devens_center\", \n",
        "    \"20210726-155941_lexus_devens_center_reverse\", \n",
        "    \"20210726-184624_lexus_devens_center\", \n",
        "    \"20210726-184956_lexus_devens_center_reverse\", \n",
        "]\n",
        "trace_path = [os.path.join(trace_root, p) for p in trace_path]\n",
        "\n",
        "# Create a virtual world with VISTA, the world is defined by a series of data traces\n",
        "world = vista.World(trace_path, trace_config={'road_width': 4})\n",
        "\n",
        "# Create a car in our virtual world. The car will be able to step and take different \n",
        "#   control actions. As the car moves, its sensors will simulate any changes it environment\n",
        "car = world.spawn_agent(\n",
        "    config={\n",
        "        'length': 5.,\n",
        "        'width': 2.,\n",
        "        'wheel_base': 2.78,\n",
        "        'steering_ratio': 14.7,\n",
        "        'lookahead_road': True\n",
        "    })\n",
        "\n",
        "# Create a camera on the car for synthesizing the sensor data that we can use to train with! \n",
        "camera = car.spawn_camera(config={'size': (200, 320)})\n",
        "\n",
        "# Define a rendering display so we can visualize the simulated car camera stream and also \n",
        "#   get see its physical location with respect to the road in its environment. \n",
        "display = vista.Display(world, display_config={\"gui_scale\": 2, \"vis_full_frame\": False})\n",
        "\n",
        "# Define a simple helper function that allows us to reset VISTA and the rendering display\n",
        "def vista_reset():\n",
        "    world.reset()\n",
        "    display.reset()\n",
        "vista_reset()"
      ]
    },
    {
      "cell_type": "markdown",
      "source": [
        "If successful, you should see a blank black screen at this point. Your rendering display has  been initialized."
      ],
      "metadata": {
        "id": "aa3sA9FKndIx"
      }
    },
    {
      "cell_type": "markdown",
      "source": [
        "## 3.7 Our virtual agent: the car\n",
        "\n",
        "Our goal is to learn a control policy for our agent, our (hopefully) autonomous vehicle, end-to-end directly from RGB camera sensory input. As in Cartpole, we need to define how our virtual agent will interact with its environment.\n",
        "\n",
        "### Define agent's action functions\n",
        "In the case of driving, the car agent can act -- taking a step in the VISTA environment -- according to a given control command. This amounts to moving with a desired speed and a desired *curvature*, which reflects the car's turn radius. Curvature has units $\\frac{1}{meter}$. So, if a car is traversing a circle of radius $r$ meters, then it is turning with a curvature $\\frac{1}{r}$. The curvature is therefore correlated with the car's steering wheel angle, which actually controls its turn radius. Let's define the car agent's step function to capture the action of moving with a desired speed and desired curvature."
      ],
      "metadata": {
        "id": "rNzwTTwzngQH"
      }
    },
    {
      "cell_type": "code",
      "execution_count": 11,
      "metadata": {
        "id": "ZjFecj3WJ9Bp"
      },
      "outputs": [],
      "source": [
        "# First we define a step function, to allow our virtual agent to step \n",
        "# with a given control command through the environment \n",
        "# agent can act with a desired curvature (turning radius, like steering angle)\n",
        "# and desired speed. if either is not provided then this step function will \n",
        "# use whatever the human executed at that time in the real data.\n",
        "\n",
        "def vista_step(curvature=None, speed=None):\n",
        "    # Arguments:\n",
        "    #   curvature: curvature to step with\n",
        "    #   speed: speed to step with\n",
        "    if curvature is None: \n",
        "        curvature = car.trace.f_curvature(car.timestamp)\n",
        "    if speed is None: \n",
        "        speed = car.trace.f_speed(car.timestamp)\n",
        "    \n",
        "    car.step_dynamics(action=np.array([curvature, speed]), dt=1/15.)\n",
        "    car.step_sensors()"
      ]
    },
    {
      "cell_type": "markdown",
      "metadata": {
        "id": "aRmV3GtkJ9Bp"
      },
      "source": [
        "### Inspect driving trajectories in VISTA\n",
        "\n",
        "Recall that our VISTA environment is based off an initial human-collected driving trace. Also, we defined the agent's step function to defer to what the human executed if it is not provided with a desired speed and curvature with which to move.\n",
        "\n",
        "Thus, we can further inspect our environment by using the step function for the driving agent to move through the environment by following the human path. The stepping and iteration will take about 1 iteration per second. We will then observe the data that comes out to see the agent's traversal of the environment."
      ]
    },
    {
      "cell_type": "code",
      "execution_count": 12,
      "metadata": {
        "id": "rp8G7eirJ9Bp"
      },
      "outputs": [],
      "source": [
        "import shutil, os, subprocess, cv2\n",
        "\n",
        "# Create a simple helper class that will assist us in storing videos of the render\n",
        "class VideoStream():\n",
        "    def __init__(self):\n",
        "        self.tmp = \"./tmp\"\n",
        "        if os.path.exists(self.tmp) and os.path.isdir(self.tmp):\n",
        "            shutil.rmtree(self.tmp)\n",
        "        os.mkdir(self.tmp)\n",
        "    def write(self, image, index):\n",
        "        cv2.imwrite(os.path.join(self.tmp, f\"{index:04}.png\"), image)\n",
        "    def save(self, fname):\n",
        "        cmd = f\"/usr/bin/ffmpeg -f image2 -i {self.tmp}/%04d.png -crf 0 -y {fname}\"\n",
        "        subprocess.call(cmd, shell=True)\n",
        "        "
      ]
    },
    {
      "cell_type": "code",
      "execution_count": 13,
      "metadata": {
        "scrolled": true,
        "id": "MlC5t0dyJ9Bq",
        "outputId": "08f68016-8d39-457e-de89-ff9fe8e350a4",
        "colab": {
          "base_uri": "https://localhost:8080/"
        }
      },
      "outputs": [
        {
          "output_type": "stream",
          "name": "stderr",
          "text": [
            "  0%|          | 0/100 [00:00<?, ?it/s]/usr/local/lib/python3.7/dist-packages/descartes/patch.py:65: ShapelyDeprecationWarning: The array interface is deprecated and will no longer work in Shapely 2.0. Convert the '.coords' to a numpy array instead.\n",
            "  for t in polygon])\n",
            "100%|██████████| 100/100 [00:57<00:00,  1.74it/s]\n"
          ]
        },
        {
          "output_type": "stream",
          "name": "stdout",
          "text": [
            "Saving trajectory of human following...\n"
          ]
        }
      ],
      "source": [
        "## Render and inspect a human trace ##\n",
        "\n",
        "vista_reset()\n",
        "stream = VideoStream()\n",
        "\n",
        "for i in tqdm(range(100)):\n",
        "    vista_step()\n",
        "    \n",
        "    # Render and save the display\n",
        "    vis_img = display.render()\n",
        "    stream.write(vis_img[:, :, ::-1], index=i)\n",
        "    if car.done: \n",
        "        break\n",
        "\n",
        "print(\"Saving trajectory of human following...\")\n",
        "stream.save(\"human_follow.mp4\")      \n",
        "mdl.lab3.play_video(\"human_follow.mp4\")"
      ]
    },
    {
      "cell_type": "markdown",
      "source": [
        "Check out the simulated VISTA environment. What do you notice about the environment, the agent, and the setup of the simulation engine? How could these aspects useful for training models?"
      ],
      "metadata": {
        "id": "SCeRDuqV-bye"
      }
    },
    {
      "cell_type": "markdown",
      "metadata": {
        "id": "CvJCRINbJ9Bq"
      },
      "source": [
        "### Define terminal states: crashing! (oh no)\n",
        "\n",
        "Recall from Cartpole, our training episodes ended when the pole toppled, i.e., the agent crashed and failed. Similarly for training vehicle control policies in VISTA, we have to define what a ***crash*** means. We will define a crash as any time the car moves out of its lane or exceeds its maximum rotation. This will define the end of a training episode."
      ]
    },
    {
      "cell_type": "code",
      "execution_count": null,
      "metadata": {
        "id": "2_6U_VAFJ9Bq"
      },
      "outputs": [],
      "source": [
        "## Define terminal states and crashing conditions ##\n",
        "\n",
        "def check_out_of_lane(car):\n",
        "    distance_from_center = np.abs(car.relative_state.x)\n",
        "    road_width = car.trace.road_width \n",
        "    half_road_width = road_width / 2\n",
        "    return distance_from_center > half_road_width\n",
        "\n",
        "def check_exceed_max_rot(car):\n",
        "    maximal_rotation = np.pi / 10.\n",
        "    current_rotation = np.abs(car.relative_state.yaw)\n",
        "    return current_rotation > maximal_rotation\n",
        "\n",
        "def check_crash(car): \n",
        "    return check_out_of_lane(car) or check_exceed_max_rot(car) or car.done"
      ]
    },
    {
      "cell_type": "markdown",
      "metadata": {
        "id": "YFXUZ8ppJ9Bq"
      },
      "source": [
        "### Quick check: acting with a random control policy\n",
        "\n",
        "At this point, we have (1) an environment; (2) an agent, with a step function. Before we start learning a control policy for our vehicle agent, we start by testing out the behavior of the agent in the virtual world by providing it with a completely random control policy. Naturally we expect that the behavior will not be very robust! Let's take a look."
      ]
    },
    {
      "cell_type": "code",
      "execution_count": null,
      "metadata": {
        "id": "ZIyI5MqwJ9Bq"
      },
      "outputs": [],
      "source": [
        "## Behavior with random control policy ##\n",
        "\n",
        "i = 0\n",
        "num_crashes = 5\n",
        "stream = VideoStream()\n",
        "\n",
        "for _ in range(num_crashes):\n",
        "    vista_reset()\n",
        "    \n",
        "    while not check_crash(car):\n",
        "\n",
        "        # Sample a random curvature (between +/- 1/3), keep speed constant\n",
        "        curvature = np.random.uniform(-1/3, 1/3)\n",
        "\n",
        "        # Step the simulated car with the same action\n",
        "        vista_step(curvature=curvature)\n",
        "\n",
        "        # Render and save the display\n",
        "        vis_img = display.render()\n",
        "        stream.write(vis_img[:, :, ::-1], index=i)\n",
        "        i += 1\n",
        "    \n",
        "    print(f\"Car crashed on step {i}\")\n",
        "    for _ in range(5):\n",
        "        stream.write(vis_img[:, :, ::-1], index=i)\n",
        "        i += 1\n",
        "\n",
        "print(\"Saving trajectory with random policy...\")\n",
        "stream.save(\"random_policy.mp4\")\n",
        "mdl.lab3.play_video(\"random_policy.mp4\")"
      ]
    },
    {
      "cell_type": "markdown",
      "metadata": {
        "id": "OL02qW5vJ9Br"
      },
      "source": [
        "## 3.8 Preparing to learn a control policy: data preprocessing\n",
        "\n",
        "So, hopefully you saw that the random control policy was, indeed, not very robust. Yikes. Our overall goal in this lab is to build a self-driving agent using a neural network controller trained entirely in the simulator VISTA. This means that the data used to train and test the self-driving agent will be supplied by VISTA. As a step towards this, we will do some data preprocessing to make it easier for the network to learn from these visual data.\n",
        "\n",
        "Previously we rendered the data with a display as a quick check that the environment was working properly. For training the agent, we will directly access the car's observations, extract Regions Of Interest (ROI) from those observations, crop them out, and use these crops as training data for our self-driving agent controller. Observe both the full observation and the extracted ROI."
      ]
    },
    {
      "cell_type": "code",
      "execution_count": null,
      "metadata": {
        "id": "4UxX6mk5J9Br"
      },
      "outputs": [],
      "source": [
        "from google.colab.patches import cv2_imshow\n",
        "\n",
        "# Directly access the raw sensor observations of the simulated car\n",
        "vista_reset()\n",
        "full_obs = car.observations[camera.name]\n",
        "cv2_imshow(full_obs)"
      ]
    },
    {
      "cell_type": "code",
      "source": [
        "## ROIs ##\n",
        "\n",
        "# Crop a smaller region of interest (ROI). This is necessary because: \n",
        "#   1. The full observation will have distortions on the edge as the car deviates from the human\n",
        "#   2. A smaller image of the environment will be easier for our model to learn from\n",
        "region_of_interest = camera.camera_param.get_roi()\n",
        "i1, j1, i2, j2 = region_of_interest\n",
        "cropped_obs = full_obs[i1:i2, j1:j2]\n",
        "cv2_imshow(cropped_obs)"
      ],
      "metadata": {
        "id": "KAH-5uxrbkng"
      },
      "execution_count": null,
      "outputs": []
    },
    {
      "cell_type": "markdown",
      "metadata": {
        "id": "znxypklaJ9Br"
      },
      "source": [
        "We will group these steps into some helper functions that we can use during training: \n",
        "1. `preprocess`: takes a full observation as input and returns a preprocessed version. This can include whatever preprocessing steps you would like! For example, ROI extraction, cropping, augmentations, and so on. You are welcome to add and modify this function as you seek to optimize your self-driving agent!\n",
        "2. `grab_and_preprocess`: grab the car's current observation (i.e., image view from its perspective), and then call the `preprocess` function on that observation."
      ]
    },
    {
      "cell_type": "code",
      "execution_count": null,
      "metadata": {
        "id": "7GQY_UwSJ9Br"
      },
      "outputs": [],
      "source": [
        "## Data preprocessing functions ##\n",
        "\n",
        "def preprocess(full_obs):\n",
        "    # Extract ROI\n",
        "    i1, j1, i2, j2 = camera.camera_param.get_roi()\n",
        "    obs = full_obs[i1:i2, j1:j2]\n",
        "    \n",
        "    # Rescale to [0, 1]\n",
        "    obs = obs / 255.\n",
        "    return obs\n",
        "\n",
        "def grab_and_preprocess_obs(car):\n",
        "    full_obs = car.observations[camera.name]\n",
        "    obs = preprocess(full_obs)\n",
        "    return obs"
      ]
    },
    {
      "cell_type": "markdown",
      "metadata": {
        "id": "WAueY4PfJ9Br"
      },
      "source": [
        "## 3.9 Define the self-driving agent and learning algorithm\n",
        "\n",
        "As before, we'll use a neural network to define our agent and output actions that it will take. Fixing the agent's driving speed, we will train this network to predict a curvature -- a continuous value -- that will relate to the car's turn radius. Specifically, define the model to output a prediction of a continuous distribution of curvature, defined by a mean $\\mu$ and standard deviation $\\sigma$. These parameters will define a Normal distribution over curvature.\n",
        "\n",
        "What network architecture do you think would be especially well suited to the task of end-to-end control learning from RGB images? Since our observations are in the form of RGB images, we'll start with a convolutional network. Note that you will be tasked with completing a template CNN architecture for the self-driving car agent -- but you should certainly experiment beyond this template to try to optimize performance!"
      ]
    },
    {
      "cell_type": "code",
      "execution_count": null,
      "metadata": {
        "id": "f-pAQA7zJ9Br"
      },
      "outputs": [],
      "source": [
        "### Define the self-driving agent ###\n",
        "# Note: we start with a template CNN architecture -- experiment away as you \n",
        "#   try to optimize your agent!\n",
        "\n",
        "# Functionally define layers for convenience\n",
        "# All convolutional layers will have ReLu activation\n",
        "act = tf.keras.activations.swish\n",
        "Conv2D = functools.partial(tf.keras.layers.Conv2D, padding='valid', activation=act)\n",
        "Flatten = tf.keras.layers.Flatten\n",
        "Dense = tf.keras.layers.Dense\n",
        "\n",
        "# Defines a CNN for the self-driving agent\n",
        "def create_driving_model():\n",
        "    model = tf.keras.models.Sequential([\n",
        "        # Convolutional layers\n",
        "        # First, 32 5x5 filters and 2x2 stride\n",
        "        Conv2D(filters=32, kernel_size=5, strides=2),\n",
        "\n",
        "        # TODO: define convolutional layers with 48 5x5 filters and 2x2 stride\n",
        "        Conv2D(filters=48, kernel_size=5, strides=2), # TODO\n",
        "        # Conv2D('''TODO'''),\n",
        "\n",
        "        # TODO: define two convolutional layers with 64 3x3 filters and 2x2 stride\n",
        "        Conv2D(filters=64, kernel_size=3, strides=2), # TODO\n",
        "        Conv2D(filters=64, kernel_size=3, strides=2), # TODO\n",
        "        # Conv2D('''TODO'''),\n",
        "\n",
        "        Flatten(),\n",
        "\n",
        "        # Fully connected layer and output\n",
        "        Dense(units=128, activation=act),\n",
        "        # TODO: define the output dimension of the last Dense layer. \n",
        "        #    Pay attention to the space the agent needs to act in.\n",
        "        #    Remember that this model is outputing a distribution of *continuous* \n",
        "        #    actions, which take a different shape than discrete actions.\n",
        "        #    How many outputs should there be to define a distribution?'''\n",
        "        Dense(units=2, activation=None) # TODO\n",
        "        # Dense('''TODO''')\n",
        "\n",
        "    ])\n",
        "    return model\n",
        "\n",
        "driving_model = create_driving_model()"
      ]
    },
    {
      "cell_type": "markdown",
      "metadata": {
        "id": "hlyL0HL1J9Bs"
      },
      "source": [
        "Now we will define the learing algorithm which will be used to reinforce good behaviors of the agent and discourage bad behaviours. As with Cartpole, we will use a *policy gradient* method that aims to **maximize** the likelihood of actions that result in large rewards. However, there are some key differences. In Cartpole, the agent's action space was discrete: it could only move left or right. In driving, the agent's action space is continuous: the control network is outputting a curvature, which is a continuous variable. We will define a probability distribution, defined by a mean and variance, over this continuous action space to define the possible actions the self-driving agent can take.\n",
        "\n",
        "You will define three functions that reflect these changes and form the core of the the learning algorithm:\n",
        "1. `run_driving_model`: takes an input image, and outputs a prediction of a continuous distribution of curvature. This will take the form of a Normal distribuion and will be defined using TensorFlow probability's [`tfp.distributions.Normal`](https://www.tensorflow.org/probability/api_docs/python/tfp/distributions/Normal) function, so the model's prediction will include both a mean and variance. Operates on an instance `driving_model` defined above.\n",
        "2. `compute_driving_loss`: computes the loss for a prediction that is in the form of a continuous Normal distribution. Recall as in Cartpole, computing the loss involves multiplying the predicted log probabilities by the discounted rewards. Similar to `compute_loss` in Cartpole.\n",
        "\n",
        "The `train_step` function to use the loss function to execute a training step will be the same as we used in Cartpole! This will have to be executed abov in order for the driving agent to train properly."
      ]
    },
    {
      "cell_type": "code",
      "execution_count": null,
      "metadata": {
        "id": "-UWhFhToJ9Bs"
      },
      "outputs": [],
      "source": [
        "## The self-driving learning algorithm ##\n",
        "\n",
        "# hyperparameters\n",
        "max_curvature = 1/8. \n",
        "max_std = 0.1 \n",
        "\n",
        "def run_driving_model(image):\n",
        "    # Arguments:\n",
        "    #   image: an input image\n",
        "    # Returns:\n",
        "    #   pred_dist: predicted distribution of control actions \n",
        "    single_image_input = tf.rank(image) == 3  # missing 4th batch dimension\n",
        "    if single_image_input:\n",
        "        image = tf.expand_dims(image, axis=0)\n",
        "\n",
        "    '''TODO: get the prediction of the model given the current observation.'''    \n",
        "    distribution = driving_model(image) # TODO\n",
        "    # distribution = ''' TODO '''\n",
        "\n",
        "    mu, logsigma = tf.split(distribution, 2, axis=1)\n",
        "    mu = max_curvature * tf.tanh(mu) # conversion\n",
        "    sigma = max_std * tf.sigmoid(logsigma) + 0.005 # conversion\n",
        "    \n",
        "    '''TODO: define the predicted distribution of curvature, given the predicted\n",
        "    mean mu and standard deviation sigma. Use a Normal distribution as defined\n",
        "    in TF probability (hint: tfp.distributions)'''\n",
        "    pred_dist = tfp.distributions.Normal(mu, sigma) # TODO\n",
        "    # pred_dist = ''' TODO '''\n",
        "    return pred_dist\n",
        "\n",
        "\n",
        "def compute_driving_loss(dist, actions, rewards):\n",
        "    # Arguments:\n",
        "    #   logits: network's predictions for actions to take\n",
        "    #   actions: the actions the agent took in an episode\n",
        "    #   rewards: the rewards the agent received in an episode\n",
        "    # Returns:\n",
        "    #   loss\n",
        "    '''TODO: complete the function call to compute the negative log probabilities\n",
        "    of the agent's actions.'''\n",
        "    neg_logprob = -1 * dist.log_prob(actions)\n",
        "    # neg_logprob = '''TODO'''\n",
        "\n",
        "    '''TODO: scale the negative log probability by the rewards.'''\n",
        "    loss = tf.reduce_mean( neg_logprob * rewards ) # TODO\n",
        "    # loss = tf.reduce_mean('''TODO''')\n",
        "    return loss\n"
      ]
    },
    {
      "cell_type": "markdown",
      "metadata": {
        "id": "fCCMKLaIJ9Bs"
      },
      "source": [
        "## 3.10 Train the self-driving agent\n",
        "\n",
        "We're now all set up to start training our RL algorithm and agent for autonomous driving!\n",
        "\n",
        "We begin be initializing an opitimizer, environment, a new driving agent, and `Memory` buffer. This will be in the first code block. To restart training completely, you will need to re-run this cell to re-initiailize everything.\n",
        "\n",
        "The second code block is the main training script. Here reinforcement learning episodes will be executed by agents in the VISTA environment. Since the self-driving agent starts out with literally zero knowledge of its environment, it can often take a long time to train and achieve stable behavior -- keep this in mind! For convenience, stopping and restarting the second cell will pick up training where you left off.\n",
        "\n",
        "The training block will execute a policy in the environment until the agent crashes. When the agent crashes, the (state, action, reward) triplet `(s,a,r)` of the agent at the end of the episode will be saved into the `Memory` buffer, and then provided as input to the policy gradient loss function. This information will be used to execute optimization within the training step. Memory will be cleared, and we will then do it all over again!\n",
        "\n",
        "Let's run the code block to train our self-driving agent. We will again visualize the evolution of the total reward as a function of training to get a sense of how the agent is learning. **You should reach a reward of at least 100 to get bare minimum stable behavior.**"
      ]
    },
    {
      "cell_type": "code",
      "source": [
        "## Training parameters and initialization ##\n",
        "## Re-run this cell to restart training from scratch ##\n",
        "\n",
        "''' TODO: Learning rate and optimizer '''\n",
        "learning_rate = 5e-4\n",
        "# learning_rate = '''TODO'''\n",
        "optimizer = tf.keras.optimizers.Adam(learning_rate)\n",
        "# optimizer = '''TODO'''\n",
        "\n",
        "# instantiate driving agent\n",
        "vista_reset()\n",
        "driving_model = create_driving_model()\n",
        "# NOTE: the variable driving_model will be used in run_driving_model execution\n",
        "\n",
        "# to track our progress\n",
        "smoothed_reward = mdl.util.LossHistory(smoothing_factor=0.9)\n",
        "plotter = mdl.util.PeriodicPlotter(sec=2, xlabel='Iterations', ylabel='Rewards')\n",
        "\n",
        "# instantiate Memory buffer\n",
        "memory = Memory()"
      ],
      "metadata": {
        "id": "uZGn94sJCtBb"
      },
      "execution_count": null,
      "outputs": []
    },
    {
      "cell_type": "code",
      "execution_count": null,
      "metadata": {
        "scrolled": true,
        "id": "G8GhVvZQJ9Bs"
      },
      "outputs": [],
      "source": [
        "## Driving training! Main training block. ##\n",
        "## Note: stopping and restarting this cell will pick up training where you\n",
        "#        left off. To restart training you need to rerun the cell above as \n",
        "#        well (to re-initialize the model and optimizer)\n",
        "\n",
        "max_batch_size = 300\n",
        "max_reward = float('-inf') # keep track of the maximum reward acheived during training\n",
        "if hasattr(tqdm, '_instances'): tqdm._instances.clear() # clear if it exists\n",
        "for i_episode in range(500):\n",
        "\n",
        "    plotter.plot(smoothed_reward.get())\n",
        "    # Restart the environment\n",
        "    vista_reset()\n",
        "    memory.clear()\n",
        "    observation = grab_and_preprocess_obs(car)\n",
        "\n",
        "    while True:\n",
        "        # TODO: using the car's current observation compute the desired \n",
        "        #  action (curvature) distribution by feeding it into our \n",
        "        #  driving model (use the function you already built to do this!) '''\n",
        "        curvature_dist = run_driving_model(observation)\n",
        "        # curvature_dist = '''TODO'''\n",
        "        \n",
        "        # TODO: sample from the action *distribution* to decide how to step\n",
        "        #   the car in the environment. You may want to check the documentation\n",
        "        #   for tfp.distributions.Normal online. Remember that the sampled action\n",
        "        #   should be a single scalar value after this step.\n",
        "        curvature_action = curvature_dist.sample()[0,0]\n",
        "        # curvature_action = '''TODO'''\n",
        "        \n",
        "        # Step the simulated car with the same action\n",
        "        vista_step(curvature_action)\n",
        "        observation = grab_and_preprocess_obs(car)\n",
        "               \n",
        "        # TODO: Compute the reward for this iteration. You define \n",
        "        #   the reward function for this policy, start with something \n",
        "        #   simple - for example, give a reward of 1 if the car did not \n",
        "        #   crash and a reward of 0 if it did crash.\n",
        "        reward = 1.0 if not check_crash(car) else 0.0\n",
        "        #  reward = '''TODO'''\n",
        "        \n",
        "        # add to memory\n",
        "        memory.add_to_memory(observation, curvature_action, reward)\n",
        "        \n",
        "        # is the episode over? did you crash or do so well that you're done?\n",
        "        if reward == 0.0:\n",
        "            # determine total reward and keep a record of this\n",
        "            total_reward = sum(memory.rewards)\n",
        "            smoothed_reward.append(total_reward)\n",
        "            \n",
        "            # execute training step - remember we don't know anything about how the \n",
        "            #   agent is doing until it has crashed! if the training step is too large \n",
        "            #   we need to sample a mini-batch for this step.\n",
        "            batch_size = min(len(memory), max_batch_size)\n",
        "            i = np.random.choice(len(memory), batch_size, replace=False)\n",
        "            train_step(driving_model, compute_driving_loss, optimizer, \n",
        "                               observations=np.array(memory.observations)[i],\n",
        "                               actions=np.array(memory.actions)[i],\n",
        "                               discounted_rewards = discount_rewards(memory.rewards)[i], \n",
        "                               custom_fwd_fn=run_driving_model)            \n",
        "            # reset the memory\n",
        "            memory.clear()\n",
        "            break"
      ]
    },
    {
      "cell_type": "markdown",
      "metadata": {
        "id": "yevBnJCFJ9Bt"
      },
      "source": [
        "## 3.11 Evaluate the self-driving agent\n",
        "\n",
        "Finally we can put our trained self-driving agent to the test! It will execute autonomous control, in VISTA, based on the learned controller. We will evaluate how well it does based on this distance the car travels without crashing. We await the result..."
      ]
    },
    {
      "cell_type": "code",
      "execution_count": null,
      "metadata": {
        "scrolled": true,
        "id": "DzeswkSnJ9Bt"
      },
      "outputs": [],
      "source": [
        "## Evaluation block!##\n",
        "\n",
        "i_step = 0\n",
        "num_episodes = 5\n",
        "num_reset = 5\n",
        "stream = VideoStream()\n",
        "for i_episode in range(num_episodes):\n",
        "    \n",
        "    # Restart the environment\n",
        "    vista_reset()\n",
        "    observation = grab_and_preprocess_obs(car)\n",
        "    \n",
        "    print(\"rolling out in env\")\n",
        "    episode_step = 0\n",
        "    while not check_crash(car) and episode_step < 100:\n",
        "        # using our observation, choose an action and take it in the environment\n",
        "        curvature_dist = run_driving_model(observation)\n",
        "        curvature = curvature_dist.mean()[0,0]\n",
        "\n",
        "        # Step the simulated car with the same action\n",
        "        vista_step(curvature)\n",
        "        observation = grab_and_preprocess_obs(car)\n",
        "\n",
        "        vis_img = display.render()\n",
        "        stream.write(vis_img[:, :, ::-1], index=i_step)\n",
        "        i_step += 1\n",
        "        episode_step += 1\n",
        "        \n",
        "    for _ in range(num_reset):\n",
        "        stream.write(np.zeros_like(vis_img), index=i_step)\n",
        "        i_step += 1\n",
        "        \n",
        "print(f\"Average reward: {(i_step - (num_reset*num_episodes)) / num_episodes}\")\n",
        "\n",
        "print(\"Saving trajectory with trained policy...\")\n",
        "stream.save(\"trained_policy.mp4\")\n",
        "mdl.lab3.play_video(\"trained_policy.mp4\")"
      ]
    },
    {
      "cell_type": "markdown",
      "source": [
        "Congratulations for making it to this point and for training an autonomous vehicle control policy using deep neural networks and reinforcement learning! Now, with an eye towards the lab competition, think about what you can change -- about the controller model, your data, your learning algorithm... -- to improve performance even further. Below in 3.11 we have some suggestions to get you started. We hope to see your self-driving control policy put to the ***real*** test!"
      ],
      "metadata": {
        "id": "Dq6TZoYvoPyy"
      }
    },
    {
      "cell_type": "markdown",
      "source": [
        "## 3.11 Conclusion and submission information\n",
        "\n",
        "That's it! Congratulations on training two RL agents and putting them to the test! We encourage you to consider the following:\n",
        "\n",
        "* How does each agent perform?\n",
        "* How does the complexity of the self-driving car agent compare to CartPole, and how does it alter the rate at which the agent learns and its performance? \n",
        "* What are some things you could change about the agent or the learning process to potentially improve performance?\n",
        "\n",
        "Try to optimize your **self-driving car** model and algorithm to achieve improved performance.  **MIT students and affiliates will be eligible for prizes during the IAP offering. The prize for this lab includes an opportunity to test your model and algorithm onboard a full-scale autonomous vehicle in the real world.**\n",
        "\n",
        "To get you started, here are some suggested ways to improve your self-driving car model and/or RL algorithm:\n",
        "\n",
        "* different model architectures, for example recurrent models or Transformers with self-attention;\n",
        "* data augmentation and improved pre-processing;\n",
        "* different data modalities from different sensor types. VISTA also supports [LiDAR](https://driving.ca/car-culture/auto-tech/what-is-lidar-and-how-is-it-used-in-cars) and [event-based camera](https://arxiv.org/pdf/1804.01310.pdf) data, with a [new VISTA paper](https://arxiv.org/pdf/2111.12083.pdf) describing this. If you are interested in this, please contact Alexander Amini (amini@mit.edu)!\n",
        "* improved reinforcement learning algorithms, such as [PPO](https://paperswithcode.com/paper/proximal-policy-optimization-algorithms), [TRPO](https://paperswithcode.com/method/trpo), or [A3C](https://paperswithcode.com/method/a3c);\n",
        "* different reward functions for reinforcemnt learning, for example penalizing the car's distance to the lane center rather than just whether or not it crashed;\n",
        "* [Guided Policy Learning (GPL)](https://rll.berkeley.edu/gps/). Not reinforcement learning, but a powerful algorithm to leverage human data to provide additional supervision the learning task.\n",
        "\n",
        "To enter the competition, MIT students and affiliates should upload the following to the course Canvas:\n",
        "\n",
        "* Jupyter notebook with the code you used to generate your results, **with the self-driving car agent training fully executed**;\n",
        "* **saved video of your self-driving agent executing a trajectory in VISTA**;\n",
        "* printout / recording of the **maximum distance traveled by your agent** before crashing;\n",
        "* **text description and/or visual diagram** of the architecture, settings, algorithm, hyperparameters, etc you used to generate your result -- if there are any additional or interesting modifications you made to the template code, please include these in your description;\n",
        "* finally, **separate `.py` script** containing the code for your model, as well as **a function call to load your model and the final trained weights**. This will mean you will have to access and load the weights of your trained model in this script;\n",
        "\n",
        "We will evaluate your entries based on the above components, as well as potential real-time evaluation of top candidates in new VISTA environments with snow / winter traces. The link for these traces is [here](https://www.dropbox.com/s/3wxyvjfquloonqc/vista_traces_snow.zip). You are welcome to download this data and evaluate your models on it as well. \n",
        "\n",
        "Good luck!\n",
        "\n",
        "<p align=\"center\">\n",
        "<img src=\"https://media.giphy.com/media/H7rpSYHRyYgamxQNqw/giphy-downsized-large.gif\" width=\"700\"/>\n",
        "</p>"
      ],
      "metadata": {
        "id": "6c6uO21GoRfw"
      }
    }
  ],
  "metadata": {
    "accelerator": "GPU",
    "colab": {
      "collapsed_sections": [],
      "name": "RL_Solution.ipynb",
      "provenance": [],
      "include_colab_link": true
    },
    "kernelspec": {
      "display_name": "Python 3",
      "language": "python",
      "name": "python3"
    },
    "language_info": {
      "codemirror_mode": {
        "name": "ipython",
        "version": 3
      },
      "file_extension": ".py",
      "mimetype": "text/x-python",
      "name": "python",
      "nbconvert_exporter": "python",
      "pygments_lexer": "ipython3",
      "version": "3.9.7"
    },
    "gpuClass": "standard"
  },
  "nbformat": 4,
  "nbformat_minor": 0
}